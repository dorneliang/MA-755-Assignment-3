{
 "cells": [
  {
   "cell_type": "markdown",
   "metadata": {},
   "source": [
    "# MA 755 - Assignment 3\n",
    "\n",
    "by Neha, Katrina, Chengdong"
   ]
  },
  {
   "cell_type": "markdown",
   "metadata": {},
   "source": [
    "## **1. Introduction**\n",
    "\n",
    "## **2. Get the data**\n",
    "    1. Set up the working directory\n",
    "    2. Download and unzip the data file\n",
    "    3. Take a quick look at the data structure\n",
    "    4. Create a train set and a test set\n",
    "  \n",
    "## **3. Data discovery and visualization**\n",
    "    1. Box plot and histogram\n",
    "    2. Examine the correlation\n",
    "\n",
    "## **4. Data preparation for Machine Learning algorithms**\n",
    "    1. Train set data cleaning - imputing missing values\n",
    "    2. Test set data cleaning - drop rows with missing values\n",
    "\n",
    "## **5. PCA**\n",
    "    1. PCA with 2 levels of n_components\n",
    "    2. Incremental PCA with 2 levels of n_components\n",
    "    3. Randomized PCA with 2 levels of n_components\n",
    "\n",
    "## **6. Logistic regression model with PCA**\n",
    "    1. Logistic regression with PCA \n",
    "    2. Logistic regression with incremental PCA\n",
    "    3. Logistic regression with randomized PCA\n",
    "    \n",
    "## **7. Logistic regression model with Kernel PCA**\n",
    "    1. GridSearch with KernelPCA\n",
    "    2. Logistic regression model with KernelPCA \n",
    "\n",
    "## **8. Comparison of model performance**   \n",
    "\n",
    "## **9. Conclusion**"
   ]
  },
  {
   "cell_type": "markdown",
   "metadata": {},
   "source": [
    "## 1. Introduction"
   ]
  },
  {
   "cell_type": "markdown",
   "metadata": {},
   "source": [
    "The data we are working on is provided by the U.S department of Education. The data set contains information on College Scorecard, federal financial aid and students' earninngs. The data set can help the students make informed educational choices by providing information on federal financial aid, school performance as well as students' long term career outcomes. The data set contains 1743 variables which are organized into 10 categories. The categories cover a broad range of topics such as school, academics, admissions, student, cost, repayment, completion and earnings.\n",
    "\n",
    "The goal for this assignment is to reduce the dimensionality of the data using a feature extraction approach called Principal Component Analysis. In order to prevent the curse of dimensionality, PCA looks for a few linear combinations (of X variables, or features) which can be used to summarize the data, losing in the process as little information as possible. \n",
    "\n",
    "The objectives for this assignment are stated below :\n",
    "*  Run PCA, Incremental PCA and Randomized PCA for two levels of number of components \n",
    "*  Use the PCA scores obtained to compare prediction accuracy of the model with and without dimensionality reduction\n",
    "*  Run Kernel PCA on the data to find the best kernel by tuning the hyperparameters using Grid Search \n"
   ]
  },
  {
   "cell_type": "markdown",
   "metadata": {},
   "source": [
    "## 2. Get the data"
   ]
  },
  {
   "cell_type": "markdown",
   "metadata": {},
   "source": [
    "### *2.1. Set up the working directory *"
   ]
  },
  {
   "cell_type": "markdown",
   "metadata": {},
   "source": [
    "The first step is to create a workspace. We import the `os` module. Next we us the `getcwd` method to return a string representing the current working directory. Then we use the `chdir` method to change the current working directory to path mentioned. Finally we confirm if our working directory is set to the one specified by calling `getcwd` method again."
   ]
  },
  {
   "cell_type": "code",
   "execution_count": 197,
   "metadata": {
    "collapsed": false
   },
   "outputs": [
    {
     "data": {
      "text/plain": [
       "'C:\\\\Users\\\\Chengdong Liang\\\\Desktop\\\\MA 755\\\\Assignment 3'"
      ]
     },
     "execution_count": 197,
     "metadata": {},
     "output_type": "execute_result"
    }
   ],
   "source": [
    "import os\n",
    "os.getcwd() "
   ]
  },
  {
   "cell_type": "markdown",
   "metadata": {},
   "source": [
    "The above output tell us that our current working directory is 'C:\\\\Users\\\\Chengdong Liang\\\\Desktop\\\\MA-755-Assignment-2-master (1)\\\\MA-755-Assignment-2-master'"
   ]
  },
  {
   "cell_type": "markdown",
   "metadata": {},
   "source": [
    "###  *2.2. Download and unzip the data file*"
   ]
  },
  {
   "cell_type": "markdown",
   "metadata": {},
   "source": [
    "We import the `os` and `zipfile` modules to fetch our data which is in the form of a zipped file. Next we import the `urllib` module that is used to fetch URLs. `COLLEGE_URL` represents the URL for our data. `COLLEGE_PATH` is the directory created in our working space to download and save the dataset."
   ]
  },
  {
   "cell_type": "markdown",
   "metadata": {},
   "source": [
    "`fetch_college_data` function has two parameters: `college_url` for the url of our dataset and `college_path` for the path in our working space where the data should be downloaded and saved.`makedirs` method is used to create the `datatsets/college` directory and setting `exist_ok` to True tells Python to not raise an error if the directory already exists.`os.path.join` method combines the name of the directory where the data is stored and the name of the data file to create an absolute path to the datafile."
   ]
  },
  {
   "cell_type": "code",
   "execution_count": 198,
   "metadata": {
    "collapsed": true
   },
   "outputs": [],
   "source": [
    "import zipfile\n",
    "from six.moves import urllib\n",
    "DOWNLOAD_ROOT = \"https://ed-public-download.apps.cloud.gov/downloads/\"\n",
    "COLLEGE_PATH = \"datasets/college\"\n",
    "COLLEGE_URL = DOWNLOAD_ROOT + \"CollegeScorecard_Raw_Data.zip\"\n",
    "\n",
    "def fetch_college_data(college_url=COLLEGE_URL, college_path=COLLEGE_PATH):\n",
    "    os.makedirs(college_path, exist_ok=True)\n",
    "    zip_path = os.path.join(college_path, \"Raw_Data.zip\")\n",
    "    urllib.request.urlretrieve(college_url, zip_path)\n",
    "    college_zip = zipfile.ZipFile(zip_path)\n",
    "    college_zip.extractall(path=college_path)\n",
    "    college_zip.close()"
   ]
  },
  {
   "cell_type": "markdown",
   "metadata": {},
   "source": [
    "Now we call the function `fetch_college_data`."
   ]
  },
  {
   "cell_type": "code",
   "execution_count": 199,
   "metadata": {
    "collapsed": true
   },
   "outputs": [],
   "source": [
    "fetch_college_data()"
   ]
  },
  {
   "cell_type": "markdown",
   "metadata": {},
   "source": [
    "It creates a `datasets/college` directory in the workspace, downloads the `CollegeScorecard_Raw_Data.zip` file and extracts all files from it in this directory."
   ]
  },
  {
   "cell_type": "markdown",
   "metadata": {},
   "source": [
    "The code below is the function to read in the csv file `MERGED2014_15_PP.csv` to a Pandas DataFrame."
   ]
  },
  {
   "cell_type": "code",
   "execution_count": 200,
   "metadata": {
    "collapsed": true
   },
   "outputs": [],
   "source": [
    "import pandas as pd\n",
    "\n",
    "DATA_PATH= \"datasets/college/CollegeScorecard_Raw_Data\"\n",
    "\n",
    "def load_college_data(data_path=DATA_PATH):\n",
    "    # `data_path` is relative to the directory containing this script\n",
    "    csv_path = os.path.join(data_path, \"MERGED2014_15_PP.csv\")\n",
    "    return pd.read_csv(csv_path, low_memory=False)"
   ]
  },
  {
   "cell_type": "markdown",
   "metadata": {},
   "source": [
    "### *2.3 Take a quick look at the data structure*"
   ]
  },
  {
   "cell_type": "markdown",
   "metadata": {},
   "source": [
    "Next we call the function `load_college_data` which returns a Pandas DataFrame and assign it to `college_original`. We also confirm its type and then look at the first five rows of the DataFrame `college_original` using the `head()` method"
   ]
  },
  {
   "cell_type": "code",
   "execution_count": 201,
   "metadata": {
    "collapsed": false
   },
   "outputs": [
    {
     "name": "stdout",
     "output_type": "stream",
     "text": [
      "<class 'pandas.core.frame.DataFrame'>\n"
     ]
    },
    {
     "data": {
      "text/html": [
       "<div>\n",
       "<table border=\"1\" class=\"dataframe\">\n",
       "  <thead>\n",
       "    <tr style=\"text-align: right;\">\n",
       "      <th></th>\n",
       "      <th>UNITID</th>\n",
       "      <th>OPEID</th>\n",
       "      <th>OPEID6</th>\n",
       "      <th>INSTNM</th>\n",
       "      <th>CITY</th>\n",
       "      <th>STABBR</th>\n",
       "      <th>ZIP</th>\n",
       "      <th>ACCREDAGENCY</th>\n",
       "      <th>INSTURL</th>\n",
       "      <th>NPCURL</th>\n",
       "      <th>...</th>\n",
       "      <th>D100_L4</th>\n",
       "      <th>TRANS_4</th>\n",
       "      <th>DTRANS_4</th>\n",
       "      <th>TRANS_L4</th>\n",
       "      <th>DTRANS_L4</th>\n",
       "      <th>ICLEVEL</th>\n",
       "      <th>UGDS_MEN</th>\n",
       "      <th>UGDS_WOMEN</th>\n",
       "      <th>CDR3_DENOM</th>\n",
       "      <th>CDR2_DENOM</th>\n",
       "    </tr>\n",
       "  </thead>\n",
       "  <tbody>\n",
       "    <tr>\n",
       "      <th>0</th>\n",
       "      <td>100654</td>\n",
       "      <td>100200</td>\n",
       "      <td>1002</td>\n",
       "      <td>Alabama A &amp; M University</td>\n",
       "      <td>Normal</td>\n",
       "      <td>AL</td>\n",
       "      <td>35762</td>\n",
       "      <td>Southern Association of Colleges and Schools C...</td>\n",
       "      <td>www.aamu.edu/</td>\n",
       "      <td>galileo.aamu.edu/netpricecalculator/npcalc.htm</td>\n",
       "      <td>...</td>\n",
       "      <td>NaN</td>\n",
       "      <td>0.0000</td>\n",
       "      <td>1044.0</td>\n",
       "      <td>NaN</td>\n",
       "      <td>NaN</td>\n",
       "      <td>1</td>\n",
       "      <td>0.4831</td>\n",
       "      <td>0.5169</td>\n",
       "      <td>1895.0</td>\n",
       "      <td>NaN</td>\n",
       "    </tr>\n",
       "    <tr>\n",
       "      <th>1</th>\n",
       "      <td>100663</td>\n",
       "      <td>105200</td>\n",
       "      <td>1052</td>\n",
       "      <td>University of Alabama at Birmingham</td>\n",
       "      <td>Birmingham</td>\n",
       "      <td>AL</td>\n",
       "      <td>35294-0110</td>\n",
       "      <td>Southern Association of Colleges and Schools C...</td>\n",
       "      <td>www.uab.edu</td>\n",
       "      <td>www.collegeportraits.org/AL/UAB/estimator/agree</td>\n",
       "      <td>...</td>\n",
       "      <td>NaN</td>\n",
       "      <td>0.2408</td>\n",
       "      <td>1246.0</td>\n",
       "      <td>NaN</td>\n",
       "      <td>NaN</td>\n",
       "      <td>1</td>\n",
       "      <td>0.4169</td>\n",
       "      <td>0.5831</td>\n",
       "      <td>3937.0</td>\n",
       "      <td>NaN</td>\n",
       "    </tr>\n",
       "    <tr>\n",
       "      <th>2</th>\n",
       "      <td>100690</td>\n",
       "      <td>2503400</td>\n",
       "      <td>25034</td>\n",
       "      <td>Amridge University</td>\n",
       "      <td>Montgomery</td>\n",
       "      <td>AL</td>\n",
       "      <td>36117-3553</td>\n",
       "      <td>Southern Association of Colleges and Schools C...</td>\n",
       "      <td>www.amridgeuniversity.edu</td>\n",
       "      <td>www2.amridgeuniversity.edu:9091/</td>\n",
       "      <td>...</td>\n",
       "      <td>NaN</td>\n",
       "      <td>0.0000</td>\n",
       "      <td>9.0</td>\n",
       "      <td>NaN</td>\n",
       "      <td>NaN</td>\n",
       "      <td>1</td>\n",
       "      <td>0.3986</td>\n",
       "      <td>0.6014</td>\n",
       "      <td>344.0</td>\n",
       "      <td>NaN</td>\n",
       "    </tr>\n",
       "    <tr>\n",
       "      <th>3</th>\n",
       "      <td>100706</td>\n",
       "      <td>105500</td>\n",
       "      <td>1055</td>\n",
       "      <td>University of Alabama in Huntsville</td>\n",
       "      <td>Huntsville</td>\n",
       "      <td>AL</td>\n",
       "      <td>35899</td>\n",
       "      <td>Southern Association of Colleges and Schools C...</td>\n",
       "      <td>www.uah.edu</td>\n",
       "      <td>finaid.uah.edu/</td>\n",
       "      <td>...</td>\n",
       "      <td>NaN</td>\n",
       "      <td>0.3477</td>\n",
       "      <td>765.0</td>\n",
       "      <td>NaN</td>\n",
       "      <td>NaN</td>\n",
       "      <td>1</td>\n",
       "      <td>0.5733</td>\n",
       "      <td>0.4267</td>\n",
       "      <td>1513.0</td>\n",
       "      <td>NaN</td>\n",
       "    </tr>\n",
       "    <tr>\n",
       "      <th>4</th>\n",
       "      <td>100724</td>\n",
       "      <td>100500</td>\n",
       "      <td>1005</td>\n",
       "      <td>Alabama State University</td>\n",
       "      <td>Montgomery</td>\n",
       "      <td>AL</td>\n",
       "      <td>36104-0271</td>\n",
       "      <td>Southern Association of Colleges and Schools C...</td>\n",
       "      <td>www.alasu.edu</td>\n",
       "      <td>www.alasu.edu/cost-aid/forms/calculator/index....</td>\n",
       "      <td>...</td>\n",
       "      <td>NaN</td>\n",
       "      <td>0.0000</td>\n",
       "      <td>1330.0</td>\n",
       "      <td>NaN</td>\n",
       "      <td>NaN</td>\n",
       "      <td>1</td>\n",
       "      <td>0.3877</td>\n",
       "      <td>0.6123</td>\n",
       "      <td>2137.0</td>\n",
       "      <td>NaN</td>\n",
       "    </tr>\n",
       "  </tbody>\n",
       "</table>\n",
       "<p>5 rows × 1743 columns</p>\n",
       "</div>"
      ],
      "text/plain": [
       "   UNITID    OPEID  OPEID6                               INSTNM        CITY  \\\n",
       "0  100654   100200    1002             Alabama A & M University      Normal   \n",
       "1  100663   105200    1052  University of Alabama at Birmingham  Birmingham   \n",
       "2  100690  2503400   25034                   Amridge University  Montgomery   \n",
       "3  100706   105500    1055  University of Alabama in Huntsville  Huntsville   \n",
       "4  100724   100500    1005             Alabama State University  Montgomery   \n",
       "\n",
       "  STABBR         ZIP                                       ACCREDAGENCY  \\\n",
       "0     AL       35762  Southern Association of Colleges and Schools C...   \n",
       "1     AL  35294-0110  Southern Association of Colleges and Schools C...   \n",
       "2     AL  36117-3553  Southern Association of Colleges and Schools C...   \n",
       "3     AL       35899  Southern Association of Colleges and Schools C...   \n",
       "4     AL  36104-0271  Southern Association of Colleges and Schools C...   \n",
       "\n",
       "                     INSTURL  \\\n",
       "0              www.aamu.edu/   \n",
       "1                www.uab.edu   \n",
       "2  www.amridgeuniversity.edu   \n",
       "3                www.uah.edu   \n",
       "4              www.alasu.edu   \n",
       "\n",
       "                                              NPCURL     ...      D100_L4  \\\n",
       "0     galileo.aamu.edu/netpricecalculator/npcalc.htm     ...          NaN   \n",
       "1    www.collegeportraits.org/AL/UAB/estimator/agree     ...          NaN   \n",
       "2                   www2.amridgeuniversity.edu:9091/     ...          NaN   \n",
       "3                                    finaid.uah.edu/     ...          NaN   \n",
       "4  www.alasu.edu/cost-aid/forms/calculator/index....     ...          NaN   \n",
       "\n",
       "   TRANS_4  DTRANS_4  TRANS_L4  DTRANS_L4  ICLEVEL  UGDS_MEN  UGDS_WOMEN  \\\n",
       "0   0.0000    1044.0       NaN        NaN        1    0.4831      0.5169   \n",
       "1   0.2408    1246.0       NaN        NaN        1    0.4169      0.5831   \n",
       "2   0.0000       9.0       NaN        NaN        1    0.3986      0.6014   \n",
       "3   0.3477     765.0       NaN        NaN        1    0.5733      0.4267   \n",
       "4   0.0000    1330.0       NaN        NaN        1    0.3877      0.6123   \n",
       "\n",
       "   CDR3_DENOM  CDR2_DENOM  \n",
       "0      1895.0         NaN  \n",
       "1      3937.0         NaN  \n",
       "2       344.0         NaN  \n",
       "3      1513.0         NaN  \n",
       "4      2137.0         NaN  \n",
       "\n",
       "[5 rows x 1743 columns]"
      ]
     },
     "execution_count": 201,
     "metadata": {},
     "output_type": "execute_result"
    }
   ],
   "source": [
    "college_original = load_college_data()\n",
    "print(type(college_original))\n",
    "college_original.head()"
   ]
  },
  {
   "cell_type": "markdown",
   "metadata": {},
   "source": [
    "The output tells us that `college_original` is a pandas Dataframe. Each row represents one college. There are 1743 attributes (columns). \n",
    "\n",
    "For further analysis, we need to subset this data set to include only our variables of interest."
   ]
  },
  {
   "cell_type": "markdown",
   "metadata": {},
   "source": [
    "### *2.4 Subsetting the data*\n",
    "\n",
    "Based on the original dataset, a new dataframe is created, which includes the variables we mainly focus on:\n",
    "* Dependent variables - 1\n",
    "* Independent variables - 10\n",
    "\n",
    "| **Variables** | **Description**      | **Type** | **Dependent/Independent**  |\n",
    "| ------------- |:-------------:| -----------:|-----------:|\n",
    "|CONTROL| Public or private institution |Categorical| Dependent|\n",
    "|PCTFLOAN      | Rate of receiving federal loans | Numeric|Independent |\n",
    "|PCTPELL      | Rate of receiving pell grant | Numeric|Independent |\n",
    "| FEMALE      | Percentage of female students      | Numeric|  Independent |\n",
    "| MARRIED | Percentage of married students|Numeric|   Independent |\n",
    "| DEPENDENT |Percentage of married students     |Numeric|    Independent |\n",
    "| VETERAN | Percentage of veteran students     |Numeric|   Independent |\n",
    "|TUITFTE| Net tuition revenue per full-time student |Numeric| Independent|\n",
    "|INEXPFTE|Instructional expenditures per full-time student |Numeric| Independent|\n",
    "|DEP_INC_AVG|Average family income of dependent students |Numeric| Independent|\n",
    "|IND_INC_AVG|Average family income of independent students |Numeric| Independent|\n",
    "\n",
    "Subsetting the DataFrame is done using square brackets and the names of the columns to be selected are placed inside the brackets. The selected columns are put in a new DataFrame called `college`.\n",
    "\n",
    "Let's have a quick look at the first 5 rows of the DataFrame `college` by using the `head()` method."
   ]
  },
  {
   "cell_type": "code",
   "execution_count": 202,
   "metadata": {
    "collapsed": false
   },
   "outputs": [
    {
     "data": {
      "text/html": [
       "<div>\n",
       "<table border=\"1\" class=\"dataframe\">\n",
       "  <thead>\n",
       "    <tr style=\"text-align: right;\">\n",
       "      <th></th>\n",
       "      <th>CONTROL</th>\n",
       "      <th>PCTFLOAN</th>\n",
       "      <th>PCTPELL</th>\n",
       "      <th>FEMALE</th>\n",
       "      <th>MARRIED</th>\n",
       "      <th>DEPENDENT</th>\n",
       "      <th>VETERAN</th>\n",
       "      <th>TUITFTE</th>\n",
       "      <th>INEXPFTE</th>\n",
       "      <th>DEP_INC_AVG</th>\n",
       "      <th>IND_INC_AVG</th>\n",
       "    </tr>\n",
       "  </thead>\n",
       "  <tbody>\n",
       "    <tr>\n",
       "      <th>0</th>\n",
       "      <td>1</td>\n",
       "      <td>0.8284</td>\n",
       "      <td>0.7356</td>\n",
       "      <td>0.5262741999</td>\n",
       "      <td>0.0165942315</td>\n",
       "      <td>0.8704069538</td>\n",
       "      <td>PrivacySuppressed</td>\n",
       "      <td>9427.0</td>\n",
       "      <td>7437.0</td>\n",
       "      <td>33370.062501</td>\n",
       "      <td>9184.1313978</td>\n",
       "    </tr>\n",
       "    <tr>\n",
       "      <th>1</th>\n",
       "      <td>1</td>\n",
       "      <td>0.5214</td>\n",
       "      <td>0.3460</td>\n",
       "      <td>0.6323896753</td>\n",
       "      <td>0.1034554538</td>\n",
       "      <td>0.6883846794</td>\n",
       "      <td>0.0033305579</td>\n",
       "      <td>9899.0</td>\n",
       "      <td>17920.0</td>\n",
       "      <td>59212.341812</td>\n",
       "      <td>28786.1557</td>\n",
       "    </tr>\n",
       "    <tr>\n",
       "      <th>2</th>\n",
       "      <td>2</td>\n",
       "      <td>0.7795</td>\n",
       "      <td>0.6801</td>\n",
       "      <td>0.6465256798</td>\n",
       "      <td>0.2386706949</td>\n",
       "      <td>0.1057401813</td>\n",
       "      <td>PrivacySuppressed</td>\n",
       "      <td>12459.0</td>\n",
       "      <td>5532.0</td>\n",
       "      <td>30720.839981</td>\n",
       "      <td>18578.064211</td>\n",
       "    </tr>\n",
       "    <tr>\n",
       "      <th>3</th>\n",
       "      <td>1</td>\n",
       "      <td>0.4596</td>\n",
       "      <td>0.3072</td>\n",
       "      <td>0.4766449021</td>\n",
       "      <td>0.1320944249</td>\n",
       "      <td>0.6514314415</td>\n",
       "      <td>0.0090406831</td>\n",
       "      <td>8956.0</td>\n",
       "      <td>10211.0</td>\n",
       "      <td>67430.323934</td>\n",
       "      <td>25117.976718</td>\n",
       "    </tr>\n",
       "    <tr>\n",
       "      <th>4</th>\n",
       "      <td>1</td>\n",
       "      <td>0.7554</td>\n",
       "      <td>0.7347</td>\n",
       "      <td>0.6152291105</td>\n",
       "      <td>0.0097708895</td>\n",
       "      <td>0.8564690027</td>\n",
       "      <td>PrivacySuppressed</td>\n",
       "      <td>7733.0</td>\n",
       "      <td>7618.0</td>\n",
       "      <td>33576.943026</td>\n",
       "      <td>6974.2969861</td>\n",
       "    </tr>\n",
       "  </tbody>\n",
       "</table>\n",
       "</div>"
      ],
      "text/plain": [
       "   CONTROL  PCTFLOAN  PCTPELL        FEMALE       MARRIED     DEPENDENT  \\\n",
       "0        1    0.8284   0.7356  0.5262741999  0.0165942315  0.8704069538   \n",
       "1        1    0.5214   0.3460  0.6323896753  0.1034554538  0.6883846794   \n",
       "2        2    0.7795   0.6801  0.6465256798  0.2386706949  0.1057401813   \n",
       "3        1    0.4596   0.3072  0.4766449021  0.1320944249  0.6514314415   \n",
       "4        1    0.7554   0.7347  0.6152291105  0.0097708895  0.8564690027   \n",
       "\n",
       "             VETERAN  TUITFTE  INEXPFTE   DEP_INC_AVG   IND_INC_AVG  \n",
       "0  PrivacySuppressed   9427.0    7437.0  33370.062501  9184.1313978  \n",
       "1       0.0033305579   9899.0   17920.0  59212.341812    28786.1557  \n",
       "2  PrivacySuppressed  12459.0    5532.0  30720.839981  18578.064211  \n",
       "3       0.0090406831   8956.0   10211.0  67430.323934  25117.976718  \n",
       "4  PrivacySuppressed   7733.0    7618.0  33576.943026  6974.2969861  "
      ]
     },
     "execution_count": 202,
     "metadata": {},
     "output_type": "execute_result"
    }
   ],
   "source": [
    "college=college_original[['CONTROL','PCTFLOAN','PCTPELL','FEMALE','MARRIED', 'DEPENDENT', 'VETERAN',\n",
    "                          'TUITFTE', 'INEXPFTE', 'DEP_INC_AVG', 'IND_INC_AVG' ]]\n",
    "college.head()"
   ]
  },
  {
   "cell_type": "markdown",
   "metadata": {},
   "source": [
    "From the first 5 rows of the data, we can observe that variable `CONTROL` has repetitive values, which indicates it might be a categorical variable. \n",
    "\n",
    "Use the `value_counts()` method to have a closer look at `CONTROL`, which gives us the frequency count for each of the unique values of the variable, arranged from highest to lowest."
   ]
  },
  {
   "cell_type": "code",
   "execution_count": 203,
   "metadata": {
    "collapsed": false,
    "scrolled": true
   },
   "outputs": [
    {
     "data": {
      "text/html": [
       "<div>\n",
       "<table border=\"1\" class=\"dataframe\">\n",
       "  <thead>\n",
       "    <tr style=\"text-align: right;\">\n",
       "      <th></th>\n",
       "      <th>CONTROL</th>\n",
       "    </tr>\n",
       "  </thead>\n",
       "  <tbody>\n",
       "    <tr>\n",
       "      <th>3</th>\n",
       "      <td>3703</td>\n",
       "    </tr>\n",
       "    <tr>\n",
       "      <th>1</th>\n",
       "      <td>2044</td>\n",
       "    </tr>\n",
       "    <tr>\n",
       "      <th>2</th>\n",
       "      <td>1956</td>\n",
       "    </tr>\n",
       "  </tbody>\n",
       "</table>\n",
       "</div>"
      ],
      "text/plain": [
       "   CONTROL\n",
       "3     3703\n",
       "1     2044\n",
       "2     1956"
      ]
     },
     "execution_count": 203,
     "metadata": {},
     "output_type": "execute_result"
    }
   ],
   "source": [
    "college.iloc[:,0:1].apply(pd.Series.value_counts)"
   ]
  },
  {
   "cell_type": "markdown",
   "metadata": {},
   "source": [
    "The types and levels of the institutions represented by these values are listed below\n",
    "\n",
    "|| **CONTROL** |    \n",
    "| ------------- |:-------------:| -----------:|-----------:|\n",
    "|*1*| Public institutions |\n",
    "|*2*| Private nonprofit institutions |\n",
    "|*3*| Private for-profit institutions|\n",
    "\n",
    "So we can see that there are 3703 Private for-profit institutions, 2044 Public institutions and  1956 Private for-profit institutions."
   ]
  },
  {
   "cell_type": "markdown",
   "metadata": {},
   "source": [
    "The code below uses the `info()` method to provide a concise summary of the DataFrame `college`"
   ]
  },
  {
   "cell_type": "code",
   "execution_count": 204,
   "metadata": {
    "collapsed": false
   },
   "outputs": [
    {
     "name": "stdout",
     "output_type": "stream",
     "text": [
      "<class 'pandas.core.frame.DataFrame'>\n",
      "RangeIndex: 7703 entries, 0 to 7702\n",
      "Data columns (total 11 columns):\n",
      "CONTROL        7703 non-null int64\n",
      "PCTFLOAN       6966 non-null float64\n",
      "PCTPELL        6966 non-null float64\n",
      "FEMALE         7497 non-null object\n",
      "MARRIED        7497 non-null object\n",
      "DEPENDENT      7497 non-null object\n",
      "VETERAN        7497 non-null object\n",
      "TUITFTE        7270 non-null float64\n",
      "INEXPFTE       7270 non-null float64\n",
      "DEP_INC_AVG    7497 non-null object\n",
      "IND_INC_AVG    7497 non-null object\n",
      "dtypes: float64(4), int64(1), object(6)\n",
      "memory usage: 662.1+ KB\n"
     ]
    }
   ],
   "source": [
    "college.info()"
   ]
  },
  {
   "cell_type": "markdown",
   "metadata": {},
   "source": [
    "The output tells us that the DataFrame `college` has 7703 observations. The names of the variables, the number of non-null values and the type are displayed as well. For instance, the variable `PCTFLOAN` has 6966 non-null values and is of type `float`."
   ]
  },
  {
   "cell_type": "markdown",
   "metadata": {},
   "source": [
    "From the general information, as shown above, it can be seen that the variables `FEMALE`, `MARRIED`, `DEPENDENT`, `VETERAN`, `DEP_INC_AVG`, `IND_INC_AVG` are not numeric. `CONTROL` should be categorical. Therefore, we need to change the type of these variables. \n",
    "\n",
    "`to_numeric()` method takes a Pandas series as input and converts it to numeric, coercing when told to by setting `errors` to `coerce`. `as.type(category)` allows us to convert a column to a categorical variable."
   ]
  },
  {
   "cell_type": "code",
   "execution_count": 205,
   "metadata": {
    "collapsed": false
   },
   "outputs": [
    {
     "name": "stderr",
     "output_type": "stream",
     "text": [
      "C:\\Users\\Chengdong Liang\\Anaconda3\\lib\\site-packages\\ipykernel\\__main__.py:2: SettingWithCopyWarning: \n",
      "A value is trying to be set on a copy of a slice from a DataFrame.\n",
      "Try using .loc[row_indexer,col_indexer] = value instead\n",
      "\n",
      "See the caveats in the documentation: http://pandas.pydata.org/pandas-docs/stable/indexing.html#indexing-view-versus-copy\n",
      "  from ipykernel import kernelapp as app\n",
      "C:\\Users\\Chengdong Liang\\Anaconda3\\lib\\site-packages\\ipykernel\\__main__.py:4: SettingWithCopyWarning: \n",
      "A value is trying to be set on a copy of a slice from a DataFrame.\n",
      "Try using .loc[row_indexer,col_indexer] = value instead\n",
      "\n",
      "See the caveats in the documentation: http://pandas.pydata.org/pandas-docs/stable/indexing.html#indexing-view-versus-copy\n"
     ]
    }
   ],
   "source": [
    "for col in college[['FEMALE', 'MARRIED', 'DEPENDENT', 'VETERAN', 'DEP_INC_AVG', 'IND_INC_AVG']]:\n",
    "    college[col]= pd.to_numeric(college[col], errors='coerce')\n",
    "\n",
    "college['CONTROL']= college['CONTROL'].astype('category')"
   ]
  },
  {
   "cell_type": "markdown",
   "metadata": {},
   "source": [
    "Next we use the `info()` method to check whether the data type of these variables has been changed."
   ]
  },
  {
   "cell_type": "code",
   "execution_count": 206,
   "metadata": {
    "collapsed": false
   },
   "outputs": [
    {
     "name": "stdout",
     "output_type": "stream",
     "text": [
      "<class 'pandas.core.frame.DataFrame'>\n",
      "RangeIndex: 7703 entries, 0 to 7702\n",
      "Data columns (total 11 columns):\n",
      "CONTROL        7703 non-null category\n",
      "PCTFLOAN       6966 non-null float64\n",
      "PCTPELL        6966 non-null float64\n",
      "FEMALE         6354 non-null float64\n",
      "MARRIED        6540 non-null float64\n",
      "DEPENDENT      6947 non-null float64\n",
      "VETERAN        3295 non-null float64\n",
      "TUITFTE        7270 non-null float64\n",
      "INEXPFTE       7270 non-null float64\n",
      "DEP_INC_AVG    6963 non-null float64\n",
      "IND_INC_AVG    6963 non-null float64\n",
      "dtypes: category(1), float64(10)\n",
      "memory usage: 609.4 KB\n"
     ]
    }
   ],
   "source": [
    "college.info()"
   ]
  },
  {
   "cell_type": "markdown",
   "metadata": {},
   "source": [
    "From the output, we can observe that all variables have been assigned the proper data type."
   ]
  },
  {
   "cell_type": "markdown",
   "metadata": {},
   "source": [
    "### *2.4 Create a train set and a test set*"
   ]
  },
  {
   "cell_type": "markdown",
   "metadata": {},
   "source": [
    "Split the dataset into a train set train_set and a test set test_set. 80% of the data will be used as the training set (named `train_set`), and 20% used as the test set (named `test_set`)."
   ]
  },
  {
   "cell_type": "code",
   "execution_count": 207,
   "metadata": {
    "collapsed": true
   },
   "outputs": [],
   "source": [
    "from sklearn.model_selection import train_test_split\n",
    "\n",
    "train_set, test_set = train_test_split(college, test_size=0.2, random_state=42)"
   ]
  },
  {
   "cell_type": "markdown",
   "metadata": {},
   "source": [
    "This gives us our training set `train_set` and our test set `test_set`."
   ]
  },
  {
   "cell_type": "markdown",
   "metadata": {},
   "source": [
    "## 3. Data discovery and visualization"
   ]
  },
  {
   "cell_type": "markdown",
   "metadata": {},
   "source": [
    "Create a copy of the training set to start exploring."
   ]
  },
  {
   "cell_type": "code",
   "execution_count": 208,
   "metadata": {
    "collapsed": true
   },
   "outputs": [],
   "source": [
    "college = train_set.copy()"
   ]
  },
  {
   "cell_type": "markdown",
   "metadata": {},
   "source": [
    "### *3.1 Box plot and histogram*"
   ]
  },
  {
   "cell_type": "markdown",
   "metadata": {},
   "source": [
    "We first load the required libraries for visualization."
   ]
  },
  {
   "cell_type": "code",
   "execution_count": 209,
   "metadata": {
    "collapsed": true
   },
   "outputs": [],
   "source": [
    "%matplotlib inline \n",
    "import matplotlib.pyplot as plt\n",
    "import seaborn as sns"
   ]
  },
  {
   "cell_type": "markdown",
   "metadata": {},
   "source": [
    "The boxplot, as shown below, displays the distribution of variable `PCTFLOAN` and variable `PCTPELL` in each type of institution (that is, group by `CONTROL`)."
   ]
  },
  {
   "cell_type": "code",
   "execution_count": 210,
   "metadata": {
    "collapsed": false
   },
   "outputs": [
    {
     "data": {
      "text/plain": [
       "array([<matplotlib.axes._subplots.AxesSubplot object at 0x0000022553A33128>,\n",
       "       <matplotlib.axes._subplots.AxesSubplot object at 0x0000022554AD46A0>], dtype=object)"
      ]
     },
     "execution_count": 210,
     "metadata": {},
     "output_type": "execute_result"
    },
    {
     "data": {
      "image/png": "[encoded data removed]",
      "text/plain": [
       "<matplotlib.figure.Figure at 0x22541249f60>"
      ]
     },
     "metadata": {},
     "output_type": "display_data"
    }
   ],
   "source": [
    "college.boxplot(column=[\"PCTFLOAN\",\"PCTPELL\"], by=\"CONTROL\")"
   ]
  },
  {
   "cell_type": "markdown",
   "metadata": {},
   "source": [
    "* From the first boxplot, we know that the rate of receiving federal loan is the lowest in the public institutions (`CONTROL`=1), and the rate of receiving federal loan is the highest in the private for-profit institutions (`CONTROL`=3).\n",
    "* Unlike the first boxplot, the second boxplot shows that the private non-profit institutions, instead of public institutions, have the lowest rate of receiving Pell Grand. The private for-profit institutions has the highest rate of receiving Pell Grand. "
   ]
  },
  {
   "cell_type": "markdown",
   "metadata": {},
   "source": [
    "The two boxplots, as shown below, demonstrate the distribution of variable `DEP_INC_AVG` (average family income of dependent students) and variable `IND_INC_AVG` (average family income of independent students) in each type of institution (that is, group by CONTROL)."
   ]
  },
  {
   "cell_type": "code",
   "execution_count": 211,
   "metadata": {
    "collapsed": false
   },
   "outputs": [
    {
     "data": {
      "text/plain": [
       "array([<matplotlib.axes._subplots.AxesSubplot object at 0x0000022503FEDAC8>,\n",
       "       <matplotlib.axes._subplots.AxesSubplot object at 0x00000225006DA748>], dtype=object)"
      ]
     },
     "execution_count": 211,
     "metadata": {},
     "output_type": "execute_result"
    },
    {
     "data": {
      "image/png": "[encoded data removed]",
      "text/plain": [
       "<matplotlib.figure.Figure at 0x22500210240>"
      ]
     },
     "metadata": {},
     "output_type": "display_data"
    }
   ],
   "source": [
    "college.boxplot(column=[\"PCTFLOAN\",\"PCTPELL\"], by=\"CONTROL\")"
   ]
  },
  {
   "cell_type": "markdown",
   "metadata": {},
   "source": [
    "From both boxplots, we know that the average family income for both dependent students and independent students are the highest in the private non-profit institutions (`CONTROL`=2), and lowest in the private for-profit institutions (`CONTROL`=3).\n",
    "\n",
    "Overall, the average family income for independent students are lower than the average family income for dependent students in each type of institution. "
   ]
  },
  {
   "cell_type": "markdown",
   "metadata": {},
   "source": [
    "The four sets of plots, as shown below, display the histogram of the percentage of female students, married students, dependent students and veterans, respectively, grouped by level and the type of institutions. "
   ]
  },
  {
   "cell_type": "markdown",
   "metadata": {},
   "source": [
    "### *3.2 Examine the correlation*"
   ]
  },
  {
   "cell_type": "markdown",
   "metadata": {},
   "source": [
    "We use the `corr()` method to compute pairwise correlation of columns, excluding NA/null values."
   ]
  },
  {
   "cell_type": "code",
   "execution_count": 212,
   "metadata": {
    "collapsed": false
   },
   "outputs": [
    {
     "data": {
      "text/plain": [
       "array([[<matplotlib.axes._subplots.AxesSubplot object at 0x000002250085D240>,\n",
       "        <matplotlib.axes._subplots.AxesSubplot object at 0x0000022504B32128>,\n",
       "        <matplotlib.axes._subplots.AxesSubplot object at 0x0000022504B96C50>,\n",
       "        <matplotlib.axes._subplots.AxesSubplot object at 0x0000022504BEC9B0>,\n",
       "        <matplotlib.axes._subplots.AxesSubplot object at 0x0000022504C5A320>,\n",
       "        <matplotlib.axes._subplots.AxesSubplot object at 0x0000022504C5A358>,\n",
       "        <matplotlib.axes._subplots.AxesSubplot object at 0x0000022504D19B00>,\n",
       "        <matplotlib.axes._subplots.AxesSubplot object at 0x0000022504D77AC8>,\n",
       "        <matplotlib.axes._subplots.AxesSubplot object at 0x0000022504DE4550>],\n",
       "       [<matplotlib.axes._subplots.AxesSubplot object at 0x0000022504E3CE10>,\n",
       "        <matplotlib.axes._subplots.AxesSubplot object at 0x0000022504EABA90>,\n",
       "        <matplotlib.axes._subplots.AxesSubplot object at 0x0000022504F058D0>,\n",
       "        <matplotlib.axes._subplots.AxesSubplot object at 0x0000022504F70320>,\n",
       "        <matplotlib.axes._subplots.AxesSubplot object at 0x0000022504FCB390>,\n",
       "        <matplotlib.axes._subplots.AxesSubplot object at 0x000002250502FDA0>,\n",
       "        <matplotlib.axes._subplots.AxesSubplot object at 0x000002250504D080>,\n",
       "        <matplotlib.axes._subplots.AxesSubplot object at 0x00000225050F3860>,\n",
       "        <matplotlib.axes._subplots.AxesSubplot object at 0x00000225051621D0>],\n",
       "       [<matplotlib.axes._subplots.AxesSubplot object at 0x00000225051B9240>,\n",
       "        <matplotlib.axes._subplots.AxesSubplot object at 0x0000022505220B70>,\n",
       "        <matplotlib.axes._subplots.AxesSubplot object at 0x0000022505278CF8>,\n",
       "        <matplotlib.axes._subplots.AxesSubplot object at 0x00000225052E52B0>,\n",
       "        <matplotlib.axes._subplots.AxesSubplot object at 0x0000022505344358>,\n",
       "        <matplotlib.axes._subplots.AxesSubplot object at 0x00000225053ADCC0>,\n",
       "        <matplotlib.axes._subplots.AxesSubplot object at 0x000002250540B6A0>,\n",
       "        <matplotlib.axes._subplots.AxesSubplot object at 0x0000022505478208>,\n",
       "        <matplotlib.axes._subplots.AxesSubplot object at 0x00000225054D4160>],\n",
       "       [<matplotlib.axes._subplots.AxesSubplot object at 0x0000022505535D68>,\n",
       "        <matplotlib.axes._subplots.AxesSubplot object at 0x000002250558CBE0>,\n",
       "        <matplotlib.axes._subplots.AxesSubplot object at 0x00000225055FC748>,\n",
       "        <matplotlib.axes._subplots.AxesSubplot object at 0x0000022505619828>,\n",
       "        <matplotlib.axes._subplots.AxesSubplot object at 0x00000225056C0208>,\n",
       "        <matplotlib.axes._subplots.AxesSubplot object at 0x0000022505727B38>,\n",
       "        <matplotlib.axes._subplots.AxesSubplot object at 0x0000022505781A90>,\n",
       "        <matplotlib.axes._subplots.AxesSubplot object at 0x00000225057F0320>,\n",
       "        <matplotlib.axes._subplots.AxesSubplot object at 0x0000022505844588>],\n",
       "       [<matplotlib.axes._subplots.AxesSubplot object at 0x00000225058AEB00>,\n",
       "        <matplotlib.axes._subplots.AxesSubplot object at 0x000002250590CBA8>,\n",
       "        <matplotlib.axes._subplots.AxesSubplot object at 0x0000022505979550>,\n",
       "        <matplotlib.axes._subplots.AxesSubplot object at 0x00000225059D2EF0>,\n",
       "        <matplotlib.axes._subplots.AxesSubplot object at 0x0000022505A3EA58>,\n",
       "        <matplotlib.axes._subplots.AxesSubplot object at 0x0000022505A989B0>,\n",
       "        <matplotlib.axes._subplots.AxesSubplot object at 0x0000022505B055F8>,\n",
       "        <matplotlib.axes._subplots.AxesSubplot object at 0x0000022505B5F470>,\n",
       "        <matplotlib.axes._subplots.AxesSubplot object at 0x0000022505BC3F98>],\n",
       "       [<matplotlib.axes._subplots.AxesSubplot object at 0x0000022505BD27B8>,\n",
       "        <matplotlib.axes._subplots.AxesSubplot object at 0x0000022505C88A58>,\n",
       "        <matplotlib.axes._subplots.AxesSubplot object at 0x0000022505CF83C8>,\n",
       "        <matplotlib.axes._subplots.AxesSubplot object at 0x0000022505D50320>,\n",
       "        <matplotlib.axes._subplots.AxesSubplot object at 0x0000022505DB4B70>,\n",
       "        <matplotlib.axes._subplots.AxesSubplot object at 0x0000022504E1C400>,\n",
       "        <matplotlib.axes._subplots.AxesSubplot object at 0x0000022505E1CF28>,\n",
       "        <matplotlib.axes._subplots.AxesSubplot object at 0x0000022505E7C828>,\n",
       "        <matplotlib.axes._subplots.AxesSubplot object at 0x0000022505EE7390>],\n",
       "       [<matplotlib.axes._subplots.AxesSubplot object at 0x0000022505F422E8>,\n",
       "        <matplotlib.axes._subplots.AxesSubplot object at 0x0000022505FA4EF0>,\n",
       "        <matplotlib.axes._subplots.AxesSubplot object at 0x0000022505FF7D68>,\n",
       "        <matplotlib.axes._subplots.AxesSubplot object at 0x00000225060688D0>,\n",
       "        <matplotlib.axes._subplots.AxesSubplot object at 0x0000022506087048>,\n",
       "        <matplotlib.axes._subplots.AxesSubplot object at 0x0000022506130390>,\n",
       "        <matplotlib.axes._subplots.AxesSubplot object at 0x0000022506194CC0>,\n",
       "        <matplotlib.axes._subplots.AxesSubplot object at 0x00000225061EBC18>,\n",
       "        <matplotlib.axes._subplots.AxesSubplot object at 0x000002250625B4A8>],\n",
       "       [<matplotlib.axes._subplots.AxesSubplot object at 0x00000225062B5710>,\n",
       "        <matplotlib.axes._subplots.AxesSubplot object at 0x0000022506319C88>,\n",
       "        <matplotlib.axes._subplots.AxesSubplot object at 0x0000022506378D30>,\n",
       "        <matplotlib.axes._subplots.AxesSubplot object at 0x00000225063E76D8>,\n",
       "        <matplotlib.axes._subplots.AxesSubplot object at 0x00000225064490B8>,\n",
       "        <matplotlib.axes._subplots.AxesSubplot object at 0x00000225064ABBE0>,\n",
       "        <matplotlib.axes._subplots.AxesSubplot object at 0x0000022506507B38>,\n",
       "        <matplotlib.axes._subplots.AxesSubplot object at 0x000002250656F780>,\n",
       "        <matplotlib.axes._subplots.AxesSubplot object at 0x00000225065CC5F8>],\n",
       "       [<matplotlib.axes._subplots.AxesSubplot object at 0x0000022506639160>,\n",
       "        <matplotlib.axes._subplots.AxesSubplot object at 0x0000022506654978>,\n",
       "        <matplotlib.axes._subplots.AxesSubplot object at 0x00000225066F4BE0>,\n",
       "        <matplotlib.axes._subplots.AxesSubplot object at 0x0000022506762550>,\n",
       "        <matplotlib.axes._subplots.AxesSubplot object at 0x00000225067BD4A8>,\n",
       "        <matplotlib.axes._subplots.AxesSubplot object at 0x0000022506822CF8>,\n",
       "        <matplotlib.axes._subplots.AxesSubplot object at 0x0000022506878F60>,\n",
       "        <matplotlib.axes._subplots.AxesSubplot object at 0x00000225068E7518>,\n",
       "        <matplotlib.axes._subplots.AxesSubplot object at 0x00000225069475C0>]], dtype=object)"
      ]
     },
     "execution_count": 212,
     "metadata": {},
     "output_type": "execute_result"
    },
    {
     "data": {
      "image/png": "[encoded data removed]",
      "text/plain": [
       "<matplotlib.figure.Figure at 0x22500855f60>"
      ]
     },
     "metadata": {},
     "output_type": "display_data"
    }
   ],
   "source": [
    "corr_matrix = college.corr()\n",
    "from pandas.tools.plotting import scatter_matrix\n",
    "attributes = [\"PCTFLOAN\",\"PCTPELL\",\"FEMALE\",\"DEPENDENT\",\"VETERAN\",\"TUITFTE\",\"INEXPFTE\",\"DEP_INC_AVG\",\"IND_INC_AVG\"]\n",
    "scatter_matrix(college[attributes], figsize=(8, 8))"
   ]
  },
  {
   "cell_type": "markdown",
   "metadata": {},
   "source": [
    "From the scatterplot matrix, as shown above, we obviously can capture two relationships between variables.\n",
    "* `PCTFLOAN` and `PCTPELL` are positively correlated\n",
    "* `DEP_INC_AVG` and `IND_INC_AVG` are positively correlated"
   ]
  },
  {
   "cell_type": "markdown",
   "metadata": {},
   "source": [
    "Let's have a closer look at the relationships between `PCTFLOAN` (the rate of receiving federal loan) and `PCTPELL`(the rate of receiving Pell Grant). Different colors represent different types of institutions (`CONTROL`)"
   ]
  },
  {
   "cell_type": "code",
   "execution_count": 213,
   "metadata": {
    "collapsed": false,
    "scrolled": true
   },
   "outputs": [
    {
     "data": {
      "text/plain": [
       "<seaborn.axisgrid.FacetGrid at 0x2250715e780>"
      ]
     },
     "execution_count": 213,
     "metadata": {},
     "output_type": "execute_result"
    },
    {
     "data": {
      "image/png": "[encoded data removed]",
      "text/plain": [
       "<matplotlib.figure.Figure at 0x22506baeeb8>"
      ]
     },
     "metadata": {},
     "output_type": "display_data"
    }
   ],
   "source": [
    "sns.lmplot(\"PCTFLOAN\", \"PCTPELL\", data=college, fit_reg=False,hue=\"CONTROL\")"
   ]
  },
  {
   "cell_type": "markdown",
   "metadata": {},
   "source": [
    "The plot shows that, in general, there is a positive relationships between `PCTFLOAN` and `PCTPELL` for each type of institution, which indicates that the higher the rate of receiving federal loan, the higher the rate of receiving Pell Grant as well in the same institution; verse vice. However, some institutions do not offer federal loan no matter how high the rate of receiving Pell Grant in these institutions.  "
   ]
  },
  {
   "cell_type": "markdown",
   "metadata": {},
   "source": [
    "## 4. Data preparation for Machine Learning algorithms"
   ]
  },
  {
   "cell_type": "markdown",
   "metadata": {},
   "source": [
    "We now create a new copy of the `train_set` and separate two target variables from independent variables. The DataFrame `college` contains the predictors,  and the DataFrame `college_type` has `CONTROL` and `ICLEVEL`. We confirm their dimensions."
   ]
  },
  {
   "cell_type": "code",
   "execution_count": 214,
   "metadata": {
    "collapsed": false
   },
   "outputs": [
    {
     "name": "stdout",
     "output_type": "stream",
     "text": [
      "(6162, 10)\n",
      "(6162, 1)\n"
     ]
    }
   ],
   "source": [
    "college = train_set.drop([\"CONTROL\"], axis=1)\n",
    "college_type = train_set[[ \"CONTROL\"]].copy()\n",
    "print(college.shape)\n",
    "print(college_type.shape)"
   ]
  },
  {
   "cell_type": "markdown",
   "metadata": {},
   "source": [
    "### 4.1 Train set data cleaning - imputing missing values"
   ]
  },
  {
   "cell_type": "markdown",
   "metadata": {},
   "source": [
    "Most Machine Learning algorithms cannot work with missing features, so let's create a few functions to take care of them. We compute the median value on the training set and use it to fill the missing values in the training set."
   ]
  },
  {
   "cell_type": "code",
   "execution_count": 215,
   "metadata": {
    "collapsed": true
   },
   "outputs": [],
   "source": [
    "from sklearn.preprocessing import Imputer\n",
    "\n",
    "imputer = Imputer(strategy=\"median\")"
   ]
  },
  {
   "cell_type": "markdown",
   "metadata": {},
   "source": [
    "Then we use the `fit()` method to add `imputer` instance to the dataframe `college` which contains our independent variables. \n",
    "\n",
    "The `Imputer` class helps to impute missing values, either using mean, median or the most frequent value of the row or column where missing values are located."
   ]
  },
  {
   "cell_type": "code",
   "execution_count": 216,
   "metadata": {
    "collapsed": false
   },
   "outputs": [
    {
     "data": {
      "text/plain": [
       "Imputer(axis=0, copy=True, missing_values='NaN', strategy='median', verbose=0)"
      ]
     },
     "execution_count": 216,
     "metadata": {},
     "output_type": "execute_result"
    }
   ],
   "source": [
    "imputer.fit(college)"
   ]
  },
  {
   "cell_type": "markdown",
   "metadata": {},
   "source": [
    "Now, replace missing values by the computed medians in order to transform the training set:"
   ]
  },
  {
   "cell_type": "code",
   "execution_count": 217,
   "metadata": {
    "collapsed": false
   },
   "outputs": [],
   "source": [
    "X = imputer.transform(college)"
   ]
  },
  {
   "cell_type": "markdown",
   "metadata": {},
   "source": [
    "Because the result is a Numpy array with transformed features. We can change the result to a Pandas DataFrame."
   ]
  },
  {
   "cell_type": "code",
   "execution_count": 218,
   "metadata": {
    "collapsed": false
   },
   "outputs": [],
   "source": [
    "college_ind = pd.DataFrame(X, columns=college.columns)"
   ]
  },
  {
   "cell_type": "code",
   "execution_count": 219,
   "metadata": {
    "collapsed": false,
    "scrolled": true
   },
   "outputs": [
    {
     "name": "stdout",
     "output_type": "stream",
     "text": [
      "<class 'pandas.core.frame.DataFrame'>\n",
      "RangeIndex: 6162 entries, 0 to 6161\n",
      "Data columns (total 10 columns):\n",
      "PCTFLOAN       6162 non-null float64\n",
      "PCTPELL        6162 non-null float64\n",
      "FEMALE         6162 non-null float64\n",
      "MARRIED        6162 non-null float64\n",
      "DEPENDENT      6162 non-null float64\n",
      "VETERAN        6162 non-null float64\n",
      "TUITFTE        6162 non-null float64\n",
      "INEXPFTE       6162 non-null float64\n",
      "DEP_INC_AVG    6162 non-null float64\n",
      "IND_INC_AVG    6162 non-null float64\n",
      "dtypes: float64(10)\n",
      "memory usage: 481.5 KB\n"
     ]
    }
   ],
   "source": [
    "college_ind.info()"
   ]
  },
  {
   "cell_type": "markdown",
   "metadata": {},
   "source": [
    "The DataFrame has 6162 observations for each variable and no missing values as we have imputed all of them.\n",
    "\n",
    "For the last step, we need to transform two target variables into 1d array  in order to fit the model."
   ]
  },
  {
   "cell_type": "code",
   "execution_count": 220,
   "metadata": {
    "collapsed": false
   },
   "outputs": [],
   "source": [
    "train_target= college_type[['CONTROL']].values.ravel()"
   ]
  },
  {
   "cell_type": "markdown",
   "metadata": {
    "collapsed": true
   },
   "source": [
    "### 4.2 Test set data cleaning - drop rows with missing value"
   ]
  },
  {
   "cell_type": "markdown",
   "metadata": {},
   "source": [
    "In order to evaluate the final model on the test set, we need to deal with missing values in the test set. Here we choose to drop observations in the test set with missing values"
   ]
  },
  {
   "cell_type": "code",
   "execution_count": 221,
   "metadata": {
    "collapsed": true
   },
   "outputs": [],
   "source": [
    "test_set_na = test_set.dropna().copy()\n",
    "\n",
    "test_ind = test_set_na.drop([\"CONTROL\"], axis=1)\n",
    "test_type = test_set_na[[ \"CONTROL\"]].copy()"
   ]
  },
  {
   "cell_type": "markdown",
   "metadata": {},
   "source": [
    "And then we need to transform two target variables into 1d array in order to fit the model in the test set."
   ]
  },
  {
   "cell_type": "code",
   "execution_count": 222,
   "metadata": {
    "collapsed": false
   },
   "outputs": [],
   "source": [
    "test_target = test_set_na[['CONTROL']].values.ravel()"
   ]
  },
  {
   "cell_type": "markdown",
   "metadata": {},
   "source": [
    "This gives us `test_target_control` as the test set for `CONTROL` variable and `test_target_iclevel` as the test set for `ICLEVEL` variable."
   ]
  },
  {
   "cell_type": "markdown",
   "metadata": {},
   "source": [
    "## 5. PCA"
   ]
  },
  {
   "cell_type": "markdown",
   "metadata": {},
   "source": [
    "Principal Component Analysis (PCA) is the most popular way for the dimensionality reduction algorithm. It uses an orthogonal transformation to convert observations of correlated variables into scores of linearly uncorrelated variables. \n",
    "\n",
    "For this section, we will provide three kinds of PCA:\n",
    "* normal PCA\n",
    "* Incremental PCA\n",
    "* Randomized PCA"
   ]
  },
  {
   "cell_type": "markdown",
   "metadata": {},
   "source": [
    "### 5.1 PCA with 2 levels of n_components\n",
    "Load required libraries and functions that are used for the PCA."
   ]
  },
  {
   "cell_type": "code",
   "execution_count": 223,
   "metadata": {
    "collapsed": true
   },
   "outputs": [],
   "source": [
    "from sklearn.decomposition import PCA\n",
    "import numpy             as np"
   ]
  },
  {
   "cell_type": "markdown",
   "metadata": {},
   "source": [
    "#### 5.1.1 PCA with 95% portion of the variance"
   ]
  },
  {
   "cell_type": "markdown",
   "metadata": {},
   "source": [
    "Firstly we need to choose the number of dimensions that add up to a sufficiently large portion of the variance. We choose 95% as the portion here.\n",
    "\n",
    "The following code computes PCA without reducing dimensionality, then it computes the minimum number of dimensions required to preserve 95% of the training set's variance."
   ]
  },
  {
   "cell_type": "code",
   "execution_count": 224,
   "metadata": {
    "collapsed": false
   },
   "outputs": [
    {
     "name": "stdout",
     "output_type": "stream",
     "text": [
      "3\n"
     ]
    }
   ],
   "source": [
    "pca = PCA()\n",
    "pca.fit(college_ind)\n",
    "cumsum= np.cumsum(pca.explained_variance_ratio_)\n",
    "d= np.argmax(cumsum>= 0.95)+ 1\n",
    "print(d)"
   ]
  },
  {
   "cell_type": "markdown",
   "metadata": {},
   "source": [
    "From the above we could find the minimum number of dimensions required is 3. Then we set `n_components =3` and run PCA again."
   ]
  },
  {
   "cell_type": "code",
   "execution_count": 225,
   "metadata": {
    "collapsed": false
   },
   "outputs": [
    {
     "data": {
      "text/plain": [
       "(6162, 3)"
      ]
     },
     "execution_count": 225,
     "metadata": {},
     "output_type": "execute_result"
    }
   ],
   "source": [
    "pca = PCA(n_components = 3)\n",
    "college_ind_3D = pca.fit_transform(college_ind)\n",
    "college_ind_3D.shape"
   ]
  },
  {
   "cell_type": "markdown",
   "metadata": {},
   "source": [
    "The above code indicates that we have 3 components instead of 10 independent variables before. "
   ]
  },
  {
   "cell_type": "markdown",
   "metadata": {},
   "source": [
    "In order to get prediction accuracy on the test set, we also need to conduct PCA analysis on the test set:"
   ]
  },
  {
   "cell_type": "code",
   "execution_count": 226,
   "metadata": {
    "collapsed": false
   },
   "outputs": [
    {
     "data": {
      "text/plain": [
       "(591, 3)"
      ]
     },
     "execution_count": 226,
     "metadata": {},
     "output_type": "execute_result"
    }
   ],
   "source": [
    "test_ind_3D = pca.fit_transform(test_ind)\n",
    "test_ind_3D.shape"
   ]
  },
  {
   "cell_type": "markdown",
   "metadata": {},
   "source": [
    "After run the PCA analysis successfully, we could use `explained_variance_ratio_` variable to figure out the explained variance ratio of each Principal Component."
   ]
  },
  {
   "cell_type": "code",
   "execution_count": 227,
   "metadata": {
    "collapsed": false
   },
   "outputs": [
    {
     "name": "stdout",
     "output_type": "stream",
     "text": [
      "[ 0.8293569   0.09865777  0.05467886]\n"
     ]
    }
   ],
   "source": [
    "print(pca.explained_variance_ratio_)"
   ]
  },
  {
   "cell_type": "markdown",
   "metadata": {},
   "source": [
    "This tells us that 82.93% of the dataset's variance lies along the firsst axis, 9.87% lies along the second axis. In addition, only 5.47% lies along the third axis: It is reasonable to assume that it probably carries little information."
   ]
  },
  {
   "cell_type": "markdown",
   "metadata": {},
   "source": [
    "And we could display the variance explained by all requested components (taken together):"
   ]
  },
  {
   "cell_type": "code",
   "execution_count": 228,
   "metadata": {
    "collapsed": false
   },
   "outputs": [
    {
     "data": {
      "text/plain": [
       "0.98269353381691815"
      ]
     },
     "execution_count": 228,
     "metadata": {},
     "output_type": "execute_result"
    }
   ],
   "source": [
    "sum(pca.explained_variance_ratio_)"
   ]
  },
  {
   "cell_type": "markdown",
   "metadata": {},
   "source": [
    "#### 5.1.2 PCA with 2 components\n",
    "\n",
    "We are also interested with PCA analysis with fewer components. Since first two components of PCA already explains 90% of the variance, we decide to run another PCA with 2 components in order to compare with 3 components PCA."
   ]
  },
  {
   "cell_type": "code",
   "execution_count": 229,
   "metadata": {
    "collapsed": false
   },
   "outputs": [
    {
     "data": {
      "text/plain": [
       "(6162, 2)"
      ]
     },
     "execution_count": 229,
     "metadata": {},
     "output_type": "execute_result"
    }
   ],
   "source": [
    "pca2 = PCA(n_components = 2)\n",
    "college_ind_2D = pca2.fit_transform(college_ind)\n",
    "college_ind_2D.shape"
   ]
  },
  {
   "cell_type": "markdown",
   "metadata": {},
   "source": [
    "The above code indicates that we have 2 components instead of 10 independent variables before. "
   ]
  },
  {
   "cell_type": "markdown",
   "metadata": {},
   "source": [
    "In order to get prediction accuracy on the test set, we also need to conduct PCA analysis on the test set:"
   ]
  },
  {
   "cell_type": "code",
   "execution_count": 230,
   "metadata": {
    "collapsed": false
   },
   "outputs": [
    {
     "data": {
      "text/plain": [
       "(591, 2)"
      ]
     },
     "execution_count": 230,
     "metadata": {},
     "output_type": "execute_result"
    }
   ],
   "source": [
    "test_ind_2D = pca2.fit_transform(test_ind)\n",
    "test_ind_2D.shape"
   ]
  },
  {
   "cell_type": "markdown",
   "metadata": {},
   "source": [
    "### 5.2 Incremental PCA with 2 levels of n_components"
   ]
  },
  {
   "cell_type": "markdown",
   "metadata": {},
   "source": [
    "Unlike the normal PCA, the incremental PCA does not need to load the whole training set for the SVD algorithm to run. It allows us to split the training set into mini-batches and feed an IPCA algorithm one mini-batch at a time. It can save memory when the training sets is very large. "
   ]
  },
  {
   "cell_type": "markdown",
   "metadata": {},
   "source": [
    "We first load the required libraries for implementing Incremental PCA"
   ]
  },
  {
   "cell_type": "code",
   "execution_count": 231,
   "metadata": {
    "collapsed": true
   },
   "outputs": [],
   "source": [
    "from sklearn.decomposition import IncrementalPCA"
   ]
  },
  {
   "cell_type": "markdown",
   "metadata": {},
   "source": [
    "Then we set the number of batches to 100."
   ]
  },
  {
   "cell_type": "code",
   "execution_count": 232,
   "metadata": {
    "collapsed": true
   },
   "outputs": [],
   "source": [
    "n_batches    = 100"
   ]
  },
  {
   "cell_type": "markdown",
   "metadata": {},
   "source": [
    "#### 5.2.1 Incremental PCA with 95% portion of the variance"
   ]
  },
  {
   "cell_type": "markdown",
   "metadata": {},
   "source": [
    "We choose the number of dimensions that explain 95% of the varince in the target variable. \n",
    "\n",
    "The following code computes Incremental PCA without reducing dimensionality, then it computes the minimum number of dimensions required to preserve 95% of the training set's variance."
   ]
  },
  {
   "cell_type": "code",
   "execution_count": 233,
   "metadata": {
    "collapsed": false
   },
   "outputs": [
    {
     "name": "stdout",
     "output_type": "stream",
     "text": [
      "3\n"
     ]
    }
   ],
   "source": [
    "ipca = IncrementalPCA()\n",
    "for college_batch in np.array_split(college_ind, n_batches):\n",
    "    ipca.partial_fit(college_batch)\n",
    "cumsum= np.cumsum(ipca.explained_variance_ratio_)\n",
    "d= np.argmax(cumsum>= 0.95)+ 1\n",
    "print(d)"
   ]
  },
  {
   "cell_type": "markdown",
   "metadata": {},
   "source": [
    "The above output tells us that we need to retain 3 principal components to explain 95% of the variance. Keeping 3 principal components, we gain run the Incremental PCA model, with 100 number of batches."
   ]
  },
  {
   "cell_type": "code",
   "execution_count": 234,
   "metadata": {
    "collapsed": true
   },
   "outputs": [],
   "source": [
    "n_batches    = 100\n",
    "ipca = IncrementalPCA(n_components = 3)"
   ]
  },
  {
   "cell_type": "markdown",
   "metadata": {},
   "source": [
    "The following code splits the training data `college_ind` into 100 mini-batches using the `array_split()` function and feeds them into Incremental PCA class to reduce the dimensioanlity of the dataset down to 3 dimensions. \n",
    "\n",
    "The code also calls the `partial_fit()` method with each mini-batch to fit the model."
   ]
  },
  {
   "cell_type": "code",
   "execution_count": 235,
   "metadata": {
    "collapsed": false
   },
   "outputs": [],
   "source": [
    "for college_batch in np.array_split(college_ind, n_batches):\n",
    "    ipca.partial_fit(college_batch)"
   ]
  },
  {
   "cell_type": "markdown",
   "metadata": {},
   "source": [
    "Then we apply the Incremental PCA dimensionality reduction to the training dataset and check the dimensions."
   ]
  },
  {
   "cell_type": "code",
   "execution_count": 236,
   "metadata": {
    "collapsed": false
   },
   "outputs": [
    {
     "data": {
      "text/plain": [
       "(6162, 3)"
      ]
     },
     "execution_count": 236,
     "metadata": {},
     "output_type": "execute_result"
    }
   ],
   "source": [
    "ipca_3D = ipca.transform(college_ind)\n",
    "ipca_3D.shape"
   ]
  },
  {
   "cell_type": "markdown",
   "metadata": {},
   "source": [
    "The output shows that the dimensions have indeed been reduced to 3. Next we apply the Incremental PCA to the test set."
   ]
  },
  {
   "cell_type": "code",
   "execution_count": 237,
   "metadata": {
    "collapsed": false
   },
   "outputs": [
    {
     "data": {
      "text/plain": [
       "(591, 3)"
      ]
     },
     "execution_count": 237,
     "metadata": {},
     "output_type": "execute_result"
    }
   ],
   "source": [
    "ipca_test_3D = ipca.transform(test_ind)\n",
    "ipca_test_3D.shape"
   ]
  },
  {
   "cell_type": "markdown",
   "metadata": {},
   "source": [
    "The test set too has been reduced to 3 dimensions.\n",
    "\n",
    "We now look at the variance explained by each of the three principal components."
   ]
  },
  {
   "cell_type": "code",
   "execution_count": 238,
   "metadata": {
    "collapsed": false
   },
   "outputs": [
    {
     "name": "stdout",
     "output_type": "stream",
     "text": [
      "[ 0.52042103  0.38499285  0.05514536]\n"
     ]
    }
   ],
   "source": [
    "print(ipca.explained_variance_ratio_)"
   ]
  },
  {
   "cell_type": "markdown",
   "metadata": {},
   "source": [
    "This tells us that 52.04% of the dataset’s variance lies along the first axis, 38.5% lies along the second axis and 5.5% along the 3rd axis.\n",
    "\n",
    "Now, let's take a look at the total variance explainded by these three components."
   ]
  },
  {
   "cell_type": "code",
   "execution_count": 239,
   "metadata": {
    "collapsed": false
   },
   "outputs": [
    {
     "data": {
      "text/plain": [
       "0.96055924233936607"
      ]
     },
     "execution_count": 239,
     "metadata": {},
     "output_type": "execute_result"
    }
   ],
   "source": [
    "sum(ipca.explained_variance_ratio_)"
   ]
  },
  {
   "cell_type": "markdown",
   "metadata": {},
   "source": [
    "The three components explain a total of 96.06% of the dataset's variance. This suggests that the three componenets may be sufficient to describe the information in the dataset."
   ]
  },
  {
   "cell_type": "markdown",
   "metadata": {},
   "source": [
    "#### 5.2.2 Incremental PCA with 2 components"
   ]
  },
  {
   "cell_type": "markdown",
   "metadata": {},
   "source": [
    "In this section, we explore the Incremental PCA analysis with fewer components. Since first two components of PCA already explains 90% of the variance, we decide to run another PCA with 2 components in order to compare with 3 components PCA."
   ]
  },
  {
   "cell_type": "code",
   "execution_count": 240,
   "metadata": {
    "collapsed": true
   },
   "outputs": [],
   "source": [
    "n_batches    = 100\n",
    "ipca2 = IncrementalPCA(n_components = 2)"
   ]
  },
  {
   "cell_type": "markdown",
   "metadata": {},
   "source": [
    "The following code splits the training data `college_ind` into 100 mini-batches using the `array_split()` function and feeds them into Incremental PCA class to reduce the dimensioanlity of the dataset down to 3 dimensions. \n",
    "\n",
    "The code also calls the `partial_fit()` method with each mini-batch to fit the model."
   ]
  },
  {
   "cell_type": "code",
   "execution_count": 241,
   "metadata": {
    "collapsed": false
   },
   "outputs": [],
   "source": [
    "for college_batch in np.array_split(college_ind, n_batches):\n",
    "    ipca2.partial_fit(college_batch)"
   ]
  },
  {
   "cell_type": "markdown",
   "metadata": {},
   "source": [
    "Then we apply the Incremental PCA dimensionality reduction to the training dataset and check the dimensions."
   ]
  },
  {
   "cell_type": "code",
   "execution_count": 242,
   "metadata": {
    "collapsed": false
   },
   "outputs": [
    {
     "data": {
      "text/plain": [
       "(6162, 2)"
      ]
     },
     "execution_count": 242,
     "metadata": {},
     "output_type": "execute_result"
    }
   ],
   "source": [
    "ipca2_2D = ipca2.transform(college_ind)\n",
    "ipca2_2D.shape"
   ]
  },
  {
   "cell_type": "markdown",
   "metadata": {},
   "source": [
    "The output shows that the dimensions have indeed been reduced to 2. \n",
    "\n",
    "Next we apply the Incremental PCA to the test set."
   ]
  },
  {
   "cell_type": "code",
   "execution_count": 243,
   "metadata": {
    "collapsed": false
   },
   "outputs": [
    {
     "data": {
      "text/plain": [
       "(591, 2)"
      ]
     },
     "execution_count": 243,
     "metadata": {},
     "output_type": "execute_result"
    }
   ],
   "source": [
    "ipca2_test_2D = ipca2.transform(test_ind)\n",
    "ipca2_test_2D.shape"
   ]
  },
  {
   "cell_type": "markdown",
   "metadata": {},
   "source": [
    "The test set too has been reduced to 2 dimensions.\n",
    "\n",
    "We now look at the variance explained by each of the two principal components."
   ]
  },
  {
   "cell_type": "code",
   "execution_count": 244,
   "metadata": {
    "collapsed": false
   },
   "outputs": [
    {
     "name": "stdout",
     "output_type": "stream",
     "text": [
      "[ 0.5171172   0.37632449]\n"
     ]
    }
   ],
   "source": [
    "print(ipca2.explained_variance_ratio_)"
   ]
  },
  {
   "cell_type": "markdown",
   "metadata": {},
   "source": [
    "This tells us that 51.71% of the dataset’s variance lies along the first axis and 37.63% lies along the second axis.\n",
    "\n",
    "Now, let's take a look at the total variance explainded by these three components."
   ]
  },
  {
   "cell_type": "code",
   "execution_count": 245,
   "metadata": {
    "collapsed": false
   },
   "outputs": [
    {
     "data": {
      "text/plain": [
       "0.8934416927750215"
      ]
     },
     "execution_count": 245,
     "metadata": {},
     "output_type": "execute_result"
    }
   ],
   "source": [
    "sum(ipca2.explained_variance_ratio_)"
   ]
  },
  {
   "cell_type": "markdown",
   "metadata": {},
   "source": [
    "The total variance explained by the two components is close to 90%."
   ]
  },
  {
   "cell_type": "markdown",
   "metadata": {},
   "source": [
    "### 5.3 Randomized PCA with 2 levels of n_components"
   ]
  },
  {
   "cell_type": "markdown",
   "metadata": {},
   "source": [
    "This kind of PCA is faster than the previous two when totoal number of observations is much larger than the first d principal components. The approximate value of d can be quickly found in this way since it apppies the stochastic algorithm."
   ]
  },
  {
   "cell_type": "markdown",
   "metadata": {},
   "source": [
    "#### 5.3.1 PCA with 95% portion of the variance"
   ]
  },
  {
   "cell_type": "markdown",
   "metadata": {},
   "source": [
    "To be consistent with previous sectoins, we choose 95% as `n_components` for Randomized PCA as well. \n",
    "\n",
    "The following code computes Randomized PCA without reducing dimensionality, then it computes the minimum number of dimensions required to preserve 95% of the training set's variance."
   ]
  },
  {
   "cell_type": "code",
   "execution_count": 246,
   "metadata": {
    "collapsed": false
   },
   "outputs": [
    {
     "name": "stdout",
     "output_type": "stream",
     "text": [
      "3\n"
     ]
    }
   ],
   "source": [
    "rpca = PCA(svd_solver=\"randomized\")\n",
    "rpca.fit(college_ind)\n",
    "cumsum= np.cumsum(pca.explained_variance_ratio_)\n",
    "d= np.argmax(cumsum>= 0.95)+ 1\n",
    "print(d)"
   ]
  },
  {
   "cell_type": "markdown",
   "metadata": {},
   "source": [
    "Since the output, as shown above, gives the minimum number of dimentions as 3, we will use 3 as the value of `n_components` for the Randomized RCA to explain 95% of the training set's variance. "
   ]
  },
  {
   "cell_type": "code",
   "execution_count": 247,
   "metadata": {
    "collapsed": false
   },
   "outputs": [],
   "source": [
    "rpca = PCA(n_components = 3,svd_solver=\"randomized\")"
   ]
  },
  {
   "cell_type": "markdown",
   "metadata": {},
   "source": [
    "The following code applies the Randomized PCA to the training set. "
   ]
  },
  {
   "cell_type": "code",
   "execution_count": 248,
   "metadata": {
    "collapsed": false
   },
   "outputs": [
    {
     "data": {
      "text/plain": [
       "(6162, 3)"
      ]
     },
     "execution_count": 248,
     "metadata": {},
     "output_type": "execute_result"
    }
   ],
   "source": [
    "rpca_3D = rpca.fit_transform(college_ind)\n",
    "rpca_3D.shape"
   ]
  },
  {
   "cell_type": "code",
   "execution_count": 249,
   "metadata": {
    "collapsed": false
   },
   "outputs": [
    {
     "data": {
      "text/plain": [
       "(6162, 3)"
      ]
     },
     "execution_count": 249,
     "metadata": {},
     "output_type": "execute_result"
    }
   ],
   "source": [
    "rpca_3D = rpca.fit_transform(college_ind)\n",
    "rpca_3D.shape"
   ]
  },
  {
   "cell_type": "markdown",
   "metadata": {},
   "source": [
    "The output shows that the dimensions are reduced from 10 to 3. Next we apply the Randomized PCA to the test set in order to get the prediction accuracy later. "
   ]
  },
  {
   "cell_type": "code",
   "execution_count": 250,
   "metadata": {
    "collapsed": false
   },
   "outputs": [
    {
     "data": {
      "text/plain": [
       "(591, 3)"
      ]
     },
     "execution_count": 250,
     "metadata": {},
     "output_type": "execute_result"
    }
   ],
   "source": [
    "rpca_test_3D = rpca.transform(test_ind)\n",
    "rpca_test_3D.shape"
   ]
  },
  {
   "cell_type": "markdown",
   "metadata": {},
   "source": [
    "From the output, we know that the dimentions are reduced to 3 in the test set as well."
   ]
  },
  {
   "cell_type": "markdown",
   "metadata": {},
   "source": [
    "The `explained_variance_ratio_` displays the explained variance ratio of each Principal Component."
   ]
  },
  {
   "cell_type": "code",
   "execution_count": 251,
   "metadata": {
    "collapsed": false
   },
   "outputs": [
    {
     "name": "stdout",
     "output_type": "stream",
     "text": [
      "[ 0.52042729  0.38502626  0.05654997]\n"
     ]
    }
   ],
   "source": [
    "print(rpca.explained_variance_ratio_)"
   ]
  },
  {
   "cell_type": "markdown",
   "metadata": {},
   "source": [
    "The output shows that 52.04% of the dataset’s variance lies along the first axis, 38.50% lies along the second axis and 5.65% along the 3rd axis.\n",
    "\n",
    "Now, let's take a look at the total variance explainded by these three components."
   ]
  },
  {
   "cell_type": "code",
   "execution_count": 252,
   "metadata": {
    "collapsed": false
   },
   "outputs": [
    {
     "data": {
      "text/plain": [
       "0.96200351329068412"
      ]
     },
     "execution_count": 252,
     "metadata": {},
     "output_type": "execute_result"
    }
   ],
   "source": [
    "sum(rpca.explained_variance_ratio_)"
   ]
  },
  {
   "cell_type": "markdown",
   "metadata": {},
   "source": [
    "The three components explain a total of 96.20% of the dataset's variance. This suggests that the three componenets may be sufficient to describe the information in the dataset."
   ]
  },
  {
   "cell_type": "markdown",
   "metadata": {},
   "source": [
    "#### 5.3.2 Randomized PCA with 2 components"
   ]
  },
  {
   "cell_type": "markdown",
   "metadata": {},
   "source": [
    "In this section, we explore the Randomized PCA analysis with fewer components. Since first two components of Randomized PCA already explains 90% of the variance, we decide to run another Randomized PCA with 2 components in order to compare with 3 principle components.\n",
    "\n",
    "The following code applies the Randomized PCA with `n_components` as 2. "
   ]
  },
  {
   "cell_type": "code",
   "execution_count": 253,
   "metadata": {
    "collapsed": false
   },
   "outputs": [
    {
     "data": {
      "text/plain": [
       "(6162, 2)"
      ]
     },
     "execution_count": 253,
     "metadata": {},
     "output_type": "execute_result"
    }
   ],
   "source": [
    "rpca2 = PCA(n_components = 2,svd_solver=\"randomized\")\n",
    "rpca_2D = rpca2.fit_transform(college_ind)\n",
    "rpca_2D.shape"
   ]
  },
  {
   "cell_type": "markdown",
   "metadata": {},
   "source": [
    "The output shows that the dimensions are successfully reduced from 10 to 3. \n",
    "\n",
    "Next we apply the Randomized PCA to the test set in order to get the prediction accuracy later."
   ]
  },
  {
   "cell_type": "code",
   "execution_count": 254,
   "metadata": {
    "collapsed": false
   },
   "outputs": [
    {
     "data": {
      "text/plain": [
       "(591, 2)"
      ]
     },
     "execution_count": 254,
     "metadata": {},
     "output_type": "execute_result"
    }
   ],
   "source": [
    "rpca_test_2D = rpca2.fit_transform(test_ind)\n",
    "rpca_test_2D.shape"
   ]
  },
  {
   "cell_type": "markdown",
   "metadata": {},
   "source": [
    "From the output, we know that the dimentions are reduced to 3 in the test set as well."
   ]
  },
  {
   "cell_type": "markdown",
   "metadata": {},
   "source": [
    "The `explained_variance_ratio_` displays the explained variance ratio of each Principal Component."
   ]
  },
  {
   "cell_type": "code",
   "execution_count": 255,
   "metadata": {
    "collapsed": false
   },
   "outputs": [
    {
     "name": "stdout",
     "output_type": "stream",
     "text": [
      "[ 0.8293569   0.09865777]\n"
     ]
    }
   ],
   "source": [
    "print(rpca2.explained_variance_ratio_)"
   ]
  },
  {
   "cell_type": "markdown",
   "metadata": {},
   "source": [
    "The output shows that 52.04% of the dataset’s variance lies along the first axis and 38.50% lies along the second axis.\n",
    "\n",
    "Now, let's take a look at the total variance explainded by these three components."
   ]
  },
  {
   "cell_type": "code",
   "execution_count": 256,
   "metadata": {
    "collapsed": false
   },
   "outputs": [
    {
     "data": {
      "text/plain": [
       "0.92801467266667537"
      ]
     },
     "execution_count": 256,
     "metadata": {},
     "output_type": "execute_result"
    }
   ],
   "source": [
    "sum(rpca2.explained_variance_ratio_)"
   ]
  },
  {
   "cell_type": "markdown",
   "metadata": {},
   "source": [
    "The total variance explained by the two components is around 90.55%."
   ]
  },
  {
   "cell_type": "markdown",
   "metadata": {},
   "source": [
    "## 6. Logistic regression model with PCA"
   ]
  },
  {
   "cell_type": "markdown",
   "metadata": {},
   "source": [
    "Load required libraries and functions that are used for the logistic regression."
   ]
  },
  {
   "cell_type": "code",
   "execution_count": 257,
   "metadata": {
    "collapsed": true
   },
   "outputs": [],
   "source": [
    "import sklearn.linear_model    as sk_lm\n",
    "import sklearn.multiclass      as sk_mc\n",
    "import sklearn.model_selection as sk_ms\n",
    "import sklearn.preprocessing   as sk_pp\n",
    "import sklearn.metrics         as sk_me\n",
    "\n",
    "from sklearn.linear_model    import SGDClassifier\n",
    "from sklearn.metrics         import confusion_matrix\n",
    "from sklearn.linear_model    import LogisticRegression\n",
    "from sklearn.metrics         import precision_score\n",
    "from sklearn.preprocessing import StandardScaler\n",
    "\n",
    "from sklearn.pipeline import Pipeline\n",
    "from sklearn.preprocessing import PolynomialFeatures"
   ]
  },
  {
   "cell_type": "markdown",
   "metadata": {},
   "source": [
    "### 6.1 Logistic regression with PCA"
   ]
  },
  {
   "cell_type": "markdown",
   "metadata": {},
   "source": [
    "#### 6.1.1 Training and fitting the model\n",
    "\n",
    "Inside the pipeline, we create two classifiers by using the LogisticRegression classifier and scale dataset to increase the accuracy."
   ]
  },
  {
   "cell_type": "code",
   "execution_count": 258,
   "metadata": {
    "collapsed": true
   },
   "outputs": [],
   "source": [
    "from sklearn.pipeline import Pipeline\n",
    "logistic_classifier_3D = Pipeline((\n",
    "(\"scaler\", StandardScaler()),\n",
    "(\"log_clf\", LogisticRegression(solver='liblinear',\n",
    "                             random_state=42))\n",
    "))"
   ]
  },
  {
   "cell_type": "code",
   "execution_count": 259,
   "metadata": {
    "collapsed": true
   },
   "outputs": [],
   "source": [
    "from sklearn.pipeline import Pipeline\n",
    "logistic_classifier_2D = Pipeline((\n",
    "(\"scaler\", StandardScaler()),\n",
    "(\"log_clf\", LogisticRegression(solver='liblinear',\n",
    "                             random_state=42))\n",
    "))"
   ]
  },
  {
   "cell_type": "markdown",
   "metadata": {},
   "source": [
    "Based on 3 & 2 new components we get from PCA, we create two new logistic regresion models:"
   ]
  },
  {
   "cell_type": "code",
   "execution_count": 260,
   "metadata": {
    "collapsed": false
   },
   "outputs": [
    {
     "data": {
      "text/plain": [
       "Pipeline(steps=(('scaler', StandardScaler(copy=True, with_mean=True, with_std=True)), ('log_clf', LogisticRegression(C=1.0, class_weight=None, dual=False, fit_intercept=True,\n",
       "          intercept_scaling=1, max_iter=100, multi_class='ovr', n_jobs=1,\n",
       "          penalty='l2', random_state=42, solver='liblinear', tol=0.0001,\n",
       "          verbose=0, warm_start=False))))"
      ]
     },
     "execution_count": 260,
     "metadata": {},
     "output_type": "execute_result"
    }
   ],
   "source": [
    "logistic_classifier_3D.fit(college_ind_3D, train_target)\n",
    "logistic_classifier_2D.fit(college_ind_2D, train_target)"
   ]
  },
  {
   "cell_type": "markdown",
   "metadata": {
    "collapsed": true
   },
   "source": [
    "#### 6.1.2 Accuracy\n",
    "The following code calculates the accuracy score when applying the model based on the 3 & 2 components of PCA method to the test set for predicting the target categorical variable. "
   ]
  },
  {
   "cell_type": "code",
   "execution_count": 261,
   "metadata": {
    "collapsed": false
   },
   "outputs": [
    {
     "name": "stdout",
     "output_type": "stream",
     "text": [
      "Accuracy score of 3 components PCA is: 0.575296108291\n"
     ]
    }
   ],
   "source": [
    "from sklearn.metrics import accuracy_score\n",
    "\n",
    "pre_test_3D= logistic_classifier_3D.predict(test_ind_3D)\n",
    "print (\"Accuracy score of 3 components PCA is:\", accuracy_score(test_target, pre_test_3D))"
   ]
  },
  {
   "cell_type": "code",
   "execution_count": 262,
   "metadata": {
    "collapsed": false
   },
   "outputs": [
    {
     "name": "stdout",
     "output_type": "stream",
     "text": [
      "Accuracy score of 2 components PCA is: 0.651438240271\n"
     ]
    }
   ],
   "source": [
    "pre_test_2D= logistic_classifier_2D.predict(test_ind_2D)\n",
    "print (\"Accuracy score of 2 components PCA is:\", accuracy_score(test_target, pre_test_2D))"
   ]
  },
  {
   "cell_type": "markdown",
   "metadata": {},
   "source": [
    "### 6.2 Logistic regression with Incremental PCA"
   ]
  },
  {
   "cell_type": "markdown",
   "metadata": {},
   "source": [
    "#### 6.2.1 Training and fitting the model"
   ]
  },
  {
   "cell_type": "markdown",
   "metadata": {},
   "source": [
    "Based on the two logistic regression classifiers we trained earlier, we fit the two logistic regression models using Incremental PCA with 3 and 2 components respectively."
   ]
  },
  {
   "cell_type": "code",
   "execution_count": 263,
   "metadata": {
    "collapsed": false
   },
   "outputs": [
    {
     "data": {
      "text/plain": [
       "Pipeline(steps=(('scaler', StandardScaler(copy=True, with_mean=True, with_std=True)), ('log_clf', LogisticRegression(C=1.0, class_weight=None, dual=False, fit_intercept=True,\n",
       "          intercept_scaling=1, max_iter=100, multi_class='ovr', n_jobs=1,\n",
       "          penalty='l2', random_state=42, solver='liblinear', tol=0.0001,\n",
       "          verbose=0, warm_start=False))))"
      ]
     },
     "execution_count": 263,
     "metadata": {},
     "output_type": "execute_result"
    }
   ],
   "source": [
    "logistic_classifier_3D.fit(ipca_3D, train_target)\n",
    "logistic_classifier_2D.fit(ipca2_2D, train_target)"
   ]
  },
  {
   "cell_type": "markdown",
   "metadata": {},
   "source": [
    "#### 6.1.2 Accuracy"
   ]
  },
  {
   "cell_type": "markdown",
   "metadata": {},
   "source": [
    "The code below calculates the accuracy score when applying the logistic regression model using the Incremental PCA scores to the test set for predicting the target categorical variable. "
   ]
  },
  {
   "cell_type": "code",
   "execution_count": 264,
   "metadata": {
    "collapsed": false
   },
   "outputs": [
    {
     "name": "stdout",
     "output_type": "stream",
     "text": [
      "Accuracy score of 3 components PCA is: 0.874788494078\n"
     ]
    }
   ],
   "source": [
    "inc_test_3D= logistic_classifier_3D.predict(ipca_test_3D)\n",
    "print (\"Accuracy score of 3 components PCA is:\", accuracy_score(test_target, inc_test_3D))"
   ]
  },
  {
   "cell_type": "code",
   "execution_count": 265,
   "metadata": {
    "collapsed": false
   },
   "outputs": [
    {
     "name": "stdout",
     "output_type": "stream",
     "text": [
      "Accuracy score of 2 components PCA is: 0.612521150592\n"
     ]
    }
   ],
   "source": [
    "inc_test_2D= logistic_classifier_2D.predict(ipca2_test_2D)\n",
    "print (\"Accuracy score of 2 components PCA is:\", accuracy_score(test_target, inc_test_2D))"
   ]
  },
  {
   "cell_type": "markdown",
   "metadata": {},
   "source": [
    "This clearly shows that the 3 component Incremental PCA performs better than the 2 component PCA. However the accuracy is much better than that obtained by ordinary PCA."
   ]
  },
  {
   "cell_type": "markdown",
   "metadata": {},
   "source": [
    "### 6.3 Logistic regression with Randomized PCA"
   ]
  },
  {
   "cell_type": "markdown",
   "metadata": {},
   "source": [
    "#### 6.3.1 Training and fitting the model"
   ]
  },
  {
   "cell_type": "markdown",
   "metadata": {},
   "source": [
    "Based on the two logistic regression classifiers we trained earlier, we fit the two logistic regression models using Incremental PCA with 3 and 2 components respectively."
   ]
  },
  {
   "cell_type": "code",
   "execution_count": 266,
   "metadata": {
    "collapsed": false
   },
   "outputs": [
    {
     "data": {
      "text/plain": [
       "Pipeline(steps=(('scaler', StandardScaler(copy=True, with_mean=True, with_std=True)), ('log_clf', LogisticRegression(C=1.0, class_weight=None, dual=False, fit_intercept=True,\n",
       "          intercept_scaling=1, max_iter=100, multi_class='ovr', n_jobs=1,\n",
       "          penalty='l2', random_state=42, solver='liblinear', tol=0.0001,\n",
       "          verbose=0, warm_start=False))))"
      ]
     },
     "execution_count": 266,
     "metadata": {},
     "output_type": "execute_result"
    }
   ],
   "source": [
    "logistic_classifier_3D.fit(rpca_3D, train_target)\n",
    "logistic_classifier_2D.fit(rpca_2D, train_target)"
   ]
  },
  {
   "cell_type": "markdown",
   "metadata": {},
   "source": [
    "#### 6.3.2 Accuracy"
   ]
  },
  {
   "cell_type": "markdown",
   "metadata": {},
   "source": [
    "The code below calculates the accuracy score when applying the logistic regression model using the Randomized PCA scores to the test set for predicting the target categorical variable. "
   ]
  },
  {
   "cell_type": "code",
   "execution_count": 267,
   "metadata": {
    "collapsed": false
   },
   "outputs": [
    {
     "name": "stdout",
     "output_type": "stream",
     "text": [
      "Accuracy score of 95% component Randomized PCA is: 0.869712351946\n"
     ]
    }
   ],
   "source": [
    "from sklearn.metrics import accuracy_score\n",
    "\n",
    "predict_test_3D= logistic_classifier_3D.predict(rpca_test_3D)\n",
    "print (\"Accuracy score of 95% component Randomized PCA is:\", accuracy_score(test_target, predict_test_3D))"
   ]
  },
  {
   "cell_type": "markdown",
   "metadata": {},
   "source": [
    "From the output, we know that the accuarcy score for 3 principle component is around 86.97%."
   ]
  },
  {
   "cell_type": "code",
   "execution_count": 268,
   "metadata": {
    "collapsed": false
   },
   "outputs": [
    {
     "name": "stdout",
     "output_type": "stream",
     "text": [
      "Accuracy score of 2 component Randomized PCA is: 0.651438240271\n"
     ]
    }
   ],
   "source": [
    "predict_test_2D= logistic_classifier_2D.predict(rpca_test_2D)\n",
    "print (\"Accuracy score of 2 component Randomized PCA is:\", accuracy_score(test_target, predict_test_2D))"
   ]
  },
  {
   "cell_type": "markdown",
   "metadata": {},
   "source": [
    "## **7. Logistic regression model with Kernel PCA**\n"
   ]
  },
  {
   "cell_type": "markdown",
   "metadata": {},
   "source": [
    "Kernel PCA performs the non-linear projections for dimensionality reduction, which is the extension of Principal Component Analysis.  In Kernel PCA, through the use of kernels, principle components can be computed efficiently\n",
    "in high-dimensional feature spaces that are related to the input space by some nonlinear mapping.\n",
    "\n",
    "Kernel PCA finds principal components which are nonlinearly related to the input space by performing PCA in the space produced by the nonlinear mapping."
   ]
  },
  {
   "cell_type": "markdown",
   "metadata": {},
   "source": [
    "### 7.1 GridSearch with KernelPCA"
   ]
  },
  {
   "cell_type": "markdown",
   "metadata": {},
   "source": [
    "The first step is to load required libraries and functions that are used for GridSearch with KernelPCA except the libraries that have been loaded before."
   ]
  },
  {
   "cell_type": "code",
   "execution_count": 269,
   "metadata": {
    "collapsed": true
   },
   "outputs": [],
   "source": [
    "from sklearn.decomposition import KernelPCA\n",
    "from sklearn.model_selection import GridSearchCV"
   ]
  },
  {
   "cell_type": "markdown",
   "metadata": {},
   "source": [
    "Based on the previous analysis, we mainly focus on different PCA method with 2 components and 3 components. Therefore, we will conduct Kernel PCA with 3 components and 2 components respectively."
   ]
  },
  {
   "cell_type": "markdown",
   "metadata": {},
   "source": [
    "### 7.1.1  KernelPCA with  3 components"
   ]
  },
  {
   "cell_type": "markdown",
   "metadata": {},
   "source": [
    "The following code is to create the pipeline that is used to apply the Kernel PCA to the logistic regression. "
   ]
  },
  {
   "cell_type": "code",
   "execution_count": 270,
   "metadata": {
    "collapsed": true
   },
   "outputs": [],
   "source": [
    "clf = Pipeline([\n",
    "        (\"kpca\", KernelPCA(n_components=3)),\n",
    "        (\"log_reg\", LogisticRegression())\n",
    "    ])"
   ]
  },
  {
   "cell_type": "markdown",
   "metadata": {},
   "source": [
    "We can use the grid search to select the best kernel and hyperparameter values that can lead to the highest performance. There are two hyperparameters in the model: `kpca__gamma` and `kpca__kernel` and options of each hyperparameters are displayed in the following code:"
   ]
  },
  {
   "cell_type": "code",
   "execution_count": 271,
   "metadata": {
    "collapsed": false
   },
   "outputs": [],
   "source": [
    "gamma_range = 10. ** np.arange(-2, 2)\n",
    "param_grid = [{\n",
    "        \"kpca__gamma\": gamma_range,\n",
    "        \"kpca__kernel\": [\"rbf\", \"sigmoid\"]\n",
    "    }]"
   ]
  },
  {
   "cell_type": "markdown",
   "metadata": {},
   "source": [
    "The following code applies the grid search to the model with 3-fold cross validation"
   ]
  },
  {
   "cell_type": "code",
   "execution_count": 272,
   "metadata": {
    "collapsed": false
   },
   "outputs": [],
   "source": [
    "grid_search = GridSearchCV(clf, param_grid, cv=3)"
   ]
  },
  {
   "cell_type": "markdown",
   "metadata": {},
   "source": [
    "PCa assumes that the dataset is centered arout "
   ]
  },
  {
   "cell_type": "code",
   "execution_count": 273,
   "metadata": {
    "collapsed": true
   },
   "outputs": [],
   "source": [
    "college_ind_centered= college_ind-college_ind.mean(axis=0)"
   ]
  },
  {
   "cell_type": "code",
   "execution_count": 274,
   "metadata": {
    "collapsed": false
   },
   "outputs": [
    {
     "data": {
      "text/plain": [
       "GridSearchCV(cv=3, error_score='raise',\n",
       "       estimator=Pipeline(steps=[('kpca', KernelPCA(alpha=1.0, coef0=1, copy_X=True, degree=3, eigen_solver='auto',\n",
       "     fit_inverse_transform=False, gamma=None, kernel='linear',\n",
       "     kernel_params=None, max_iter=None, n_components=3, n_jobs=1,\n",
       "     random_state=None, remove_zero_eig=False, tol=0)), ('log_reg', LogisticRegre...ty='l2', random_state=None, solver='liblinear', tol=0.0001,\n",
       "          verbose=0, warm_start=False))]),\n",
       "       fit_params={}, iid=True, n_jobs=1,\n",
       "       param_grid=[{'kpca__gamma': array([  0.01,   0.1 ,   1.  ,  10.  ]), 'kpca__kernel': ['rbf', 'sigmoid']}],\n",
       "       pre_dispatch='2*n_jobs', refit=True, return_train_score=True,\n",
       "       scoring=None, verbose=0)"
      ]
     },
     "execution_count": 274,
     "metadata": {},
     "output_type": "execute_result"
    }
   ],
   "source": [
    "grid_search.fit(college_ind_centered, train_target)"
   ]
  },
  {
   "cell_type": "markdown",
   "metadata": {},
   "source": [
    "The best kernel and hyperparameters are given by using the following code:"
   ]
  },
  {
   "cell_type": "code",
   "execution_count": 275,
   "metadata": {
    "collapsed": false
   },
   "outputs": [
    {
     "data": {
      "text/plain": [
       "{'kpca__gamma': 0.01, 'kpca__kernel': 'sigmoid'}"
      ]
     },
     "execution_count": 275,
     "metadata": {},
     "output_type": "execute_result"
    }
   ],
   "source": [
    "grid_search.best_params_"
   ]
  },
  {
   "cell_type": "markdown",
   "metadata": {},
   "source": [
    "The best kernel is `sigmoid` and best gamma value is 0.01."
   ]
  },
  {
   "cell_type": "markdown",
   "metadata": {},
   "source": [
    "### 7.1.2  KernelPCA with  2 components\n",
    "\n",
    "We could follow the same process of Kernel PCA with 3 components to get the result of Kernel with 2 components. "
   ]
  },
  {
   "cell_type": "code",
   "execution_count": 276,
   "metadata": {
    "collapsed": false
   },
   "outputs": [
    {
     "data": {
      "text/plain": [
       "{'kpca__gamma': 0.01, 'kpca__kernel': 'sigmoid'}"
      ]
     },
     "execution_count": 276,
     "metadata": {},
     "output_type": "execute_result"
    }
   ],
   "source": [
    "clf = Pipeline([\n",
    "        (\"kpca\", KernelPCA(n_components=2)),\n",
    "        (\"log_reg\", LogisticRegression())\n",
    "    ])\n",
    "\n",
    "gamma_range = 10. ** np.arange(-2, 2)\n",
    "param_grid = [{\n",
    "        \"kpca__gamma\": gamma_range,\n",
    "        \"kpca__kernel\": [\"rbf\", \"sigmoid\"]\n",
    "    }]\n",
    "\n",
    "grid_search = GridSearchCV(clf, param_grid, cv=3)\n",
    "\n",
    "college_ind_centered= college_ind-college_ind.mean(axis=0)\n",
    "\n",
    "grid_search.fit(college_ind_centered, train_target)\n",
    "\n",
    "grid_search.best_params_"
   ]
  },
  {
   "cell_type": "markdown",
   "metadata": {},
   "source": [
    "From the above output, we could find that the best kernel and hyperparameters are exactly the same with Kernel PCA with 3 components."
   ]
  },
  {
   "cell_type": "markdown",
   "metadata": {},
   "source": [
    "### 7.2 Logistic regression model with KernelPCA "
   ]
  },
  {
   "cell_type": "markdown",
   "metadata": {},
   "source": [
    "After the grid search for the best kernel and hyperparameters, we using the following code to perform logistic regression with kernel PCA of 3 components and 2 components respectively."
   ]
  },
  {
   "cell_type": "markdown",
   "metadata": {},
   "source": [
    "### 7.2.1   Logistic regression with KernelPCA - 3 components"
   ]
  },
  {
   "cell_type": "code",
   "execution_count": 277,
   "metadata": {
    "collapsed": false
   },
   "outputs": [
    {
     "data": {
      "text/plain": [
       "(6162, 3)"
      ]
     },
     "execution_count": 277,
     "metadata": {},
     "output_type": "execute_result"
    }
   ],
   "source": [
    "sig_pca = KernelPCA(n_components = 3, kernel=\"sigmoid\", gamma=0.01)\n",
    "college_ind_3D = sig_pca.fit_transform(college_ind)\n",
    "college_ind_3D.shape"
   ]
  },
  {
   "cell_type": "markdown",
   "metadata": {},
   "source": [
    "In order to get prediction accuracy on the test set, we also need to conduct PCA analysis on the test set:"
   ]
  },
  {
   "cell_type": "code",
   "execution_count": 278,
   "metadata": {
    "collapsed": false
   },
   "outputs": [
    {
     "data": {
      "text/plain": [
       "(591, 3)"
      ]
     },
     "execution_count": 278,
     "metadata": {},
     "output_type": "execute_result"
    }
   ],
   "source": [
    "test_ind_3D = sig_pca.fit_transform(test_ind)\n",
    "test_ind_3D.shape"
   ]
  },
  {
   "cell_type": "markdown",
   "metadata": {},
   "source": [
    "Inside the pipeline, we create two classifiers by using the LogisticRegression classifier and scale dataset to increase the accuracy."
   ]
  },
  {
   "cell_type": "code",
   "execution_count": 279,
   "metadata": {
    "collapsed": true
   },
   "outputs": [],
   "source": [
    "logistic_classifier_3D = Pipeline((\n",
    "(\"scaler\", StandardScaler()),\n",
    "(\"log_clf\", LogisticRegression(solver='liblinear',\n",
    "                             random_state=42))\n",
    "))"
   ]
  },
  {
   "cell_type": "markdown",
   "metadata": {},
   "source": [
    "Based on 3 new components we get from PCA, we create the logistic regresion model:"
   ]
  },
  {
   "cell_type": "code",
   "execution_count": 280,
   "metadata": {
    "collapsed": false
   },
   "outputs": [
    {
     "data": {
      "text/plain": [
       "Pipeline(steps=(('scaler', StandardScaler(copy=True, with_mean=True, with_std=True)), ('log_clf', LogisticRegression(C=1.0, class_weight=None, dual=False, fit_intercept=True,\n",
       "          intercept_scaling=1, max_iter=100, multi_class='ovr', n_jobs=1,\n",
       "          penalty='l2', random_state=42, solver='liblinear', tol=0.0001,\n",
       "          verbose=0, warm_start=False))))"
      ]
     },
     "execution_count": 280,
     "metadata": {},
     "output_type": "execute_result"
    }
   ],
   "source": [
    "logistic_classifier_3D.fit(college_ind_3D, train_target)"
   ]
  },
  {
   "cell_type": "markdown",
   "metadata": {},
   "source": [
    "The following code calculates the accuracy score when applying the model based on the 3 & 2 components of PCA method to the test set for predicting the target categorical variable."
   ]
  },
  {
   "cell_type": "code",
   "execution_count": 281,
   "metadata": {
    "collapsed": false
   },
   "outputs": [
    {
     "name": "stdout",
     "output_type": "stream",
     "text": [
      "Accuracy score of 3 components PCA is: 0.507614213198\n"
     ]
    }
   ],
   "source": [
    "pre_test_3D= logistic_classifier_3D.predict(test_ind_3D)\n",
    "print (\"Accuracy score of 3 components PCA is:\", accuracy_score(test_target, pre_test_3D))"
   ]
  },
  {
   "cell_type": "markdown",
   "metadata": {},
   "source": [
    "### 7.2.2  Logistic regression with KernelPCA - 2 components"
   ]
  },
  {
   "cell_type": "markdown",
   "metadata": {},
   "source": [
    "As the same, we could get logistic regression model with Kernel PCA (2 components) as well as the accuracy score."
   ]
  },
  {
   "cell_type": "code",
   "execution_count": 282,
   "metadata": {
    "collapsed": false
   },
   "outputs": [
    {
     "data": {
      "text/plain": [
       "(6162, 2)"
      ]
     },
     "execution_count": 282,
     "metadata": {},
     "output_type": "execute_result"
    }
   ],
   "source": [
    "sig_pca = KernelPCA(n_components = 2, kernel=\"sigmoid\", gamma=0.01)\n",
    "college_ind_2D = sig_pca.fit_transform(college_ind)\n",
    "college_ind_2D.shape"
   ]
  },
  {
   "cell_type": "code",
   "execution_count": 283,
   "metadata": {
    "collapsed": false
   },
   "outputs": [
    {
     "data": {
      "text/plain": [
       "(591, 2)"
      ]
     },
     "execution_count": 283,
     "metadata": {},
     "output_type": "execute_result"
    }
   ],
   "source": [
    "test_ind_2D = sig_pca.fit_transform(test_ind)\n",
    "test_ind_2D.shape"
   ]
  },
  {
   "cell_type": "code",
   "execution_count": 284,
   "metadata": {
    "collapsed": true
   },
   "outputs": [],
   "source": [
    "logistic_classifier_2D = Pipeline((\n",
    "(\"scaler\", StandardScaler()),\n",
    "(\"log_clf\", LogisticRegression(solver='liblinear',\n",
    "                             random_state=42))\n",
    "))"
   ]
  },
  {
   "cell_type": "code",
   "execution_count": 285,
   "metadata": {
    "collapsed": false
   },
   "outputs": [
    {
     "data": {
      "text/plain": [
       "Pipeline(steps=(('scaler', StandardScaler(copy=True, with_mean=True, with_std=True)), ('log_clf', LogisticRegression(C=1.0, class_weight=None, dual=False, fit_intercept=True,\n",
       "          intercept_scaling=1, max_iter=100, multi_class='ovr', n_jobs=1,\n",
       "          penalty='l2', random_state=42, solver='liblinear', tol=0.0001,\n",
       "          verbose=0, warm_start=False))))"
      ]
     },
     "execution_count": 285,
     "metadata": {},
     "output_type": "execute_result"
    }
   ],
   "source": [
    "logistic_classifier_2D.fit(college_ind_2D, train_target)"
   ]
  },
  {
   "cell_type": "code",
   "execution_count": 286,
   "metadata": {
    "collapsed": false
   },
   "outputs": [
    {
     "name": "stdout",
     "output_type": "stream",
     "text": [
      "Accuracy score of 2 components PCA is: 0.507614213198\n"
     ]
    }
   ],
   "source": [
    "pre_test_2D= logistic_classifier_2D.predict(test_ind_2D)\n",
    "print (\"Accuracy score of 2 components PCA is:\", accuracy_score(test_target, pre_test_2D))"
   ]
  },
  {
   "cell_type": "markdown",
   "metadata": {},
   "source": [
    "Regardless of whether we keep 2 or 3 components, the accuracy score of logistic regression model with Kernel PCA stays the same at 0.51."
   ]
  },
  {
   "cell_type": "markdown",
   "metadata": {},
   "source": [
    "## **8. Comparison of model performance**\n",
    "\n",
    "From Assignment 2, we obtained the accuracy score for logistic regression model as 0.89. \n",
    "\n",
    "The following table summarizes the prediction accuracy for each logistic regression model with different PCA and different levels of `n_components`. In addition, we also list the logistic regression model without PCA for comparison.\n",
    "\n",
    "| **PCA** | **`n_component`=0.95**| **`n_component`=2**  \n",
    "| ------------- |:-------------:| -----------:\n",
    "|Not performed| 0.89|0.89   | \n",
    "|Normal PCA| 0.58|0.65   | \n",
    "|Incremental PCA| 0.88 | 0.61|\n",
    "|Randomized PCA| 0.87 | 0.65| \n",
    "|Kernel PCA| 0.51| 0.51| \n",
    "\n",
    "From the summary table, we can observe the following:\n",
    "\n",
    "1. Logistic regression model performs better without dimensionality reduction.\n",
    "2. Among the different PCA methods used, Incremental PCA performs best for 3 components and Randomized PCA performs best for 2 components\n",
    "3. Kernel PCA does a poor job predicting the classes\n",
    "4. Keeping the number of components as 3 increases the prediction accuracy as compared to using only 2 components"
   ]
  },
  {
   "cell_type": "markdown",
   "metadata": {},
   "source": [
    "## **9. Conclusion**\n"
   ]
  },
  {
   "cell_type": "markdown",
   "metadata": {},
   "source": [
    "The subset of the dataset that we were using for our analysis contained only 10 independent variables, some of which were mildly correlated. In such a case, there may not be a need to perform any dimensionality reduction. Since there is little correlation among the variables, all of the varibles are bringing in new information and throwing away any of them would lead to data leakage. We believe this is the reason our model did not perform well with PCA."
   ]
  }
 ],
 "metadata": {
  "anaconda-cloud": {},
  "kernelspec": {
   "display_name": "Python [default]",
   "language": "python",
   "name": "python3"
  },
  "language_info": {
   "codemirror_mode": {
    "name": "ipython",
    "version": 3
   },
   "file_extension": ".py",
   "mimetype": "text/x-python",
   "name": "python",
   "nbconvert_exporter": "python",
   "pygments_lexer": "ipython3",
   "version": "3.5.2"
  }
 },
 "nbformat": 4,
 "nbformat_minor": 1
}
